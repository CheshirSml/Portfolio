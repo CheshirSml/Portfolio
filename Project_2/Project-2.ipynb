{
 "cells": [
  {
   "attachments": {},
   "cell_type": "markdown",
   "metadata": {},
   "source": [
    "# Настройка"
   ]
  },
  {
   "attachments": {},
   "cell_type": "markdown",
   "metadata": {},
   "source": [
    "###  подгрузка библиотек"
   ]
  },
  {
   "cell_type": "code",
   "execution_count": 1,
   "metadata": {},
   "outputs": [],
   "source": [
    "import psycopg2\n",
    "import pandas as pd"
   ]
  },
  {
   "attachments": {},
   "cell_type": "markdown",
   "metadata": {},
   "source": [
    "### данные соединения (удалить после выполнения!!!!)"
   ]
  },
  {
   "cell_type": "code",
   "execution_count": 20,
   "metadata": {},
   "outputs": [],
   "source": [
    "DBNAME = \n",
    "USER = \n",
    "PASSWORD = \n",
    "HOST = \n",
    "PORT = "
   ]
  },
  {
   "attachments": {},
   "cell_type": "markdown",
   "metadata": {},
   "source": [
    "### Создаем соединение с заданными параметрами"
   ]
  },
  {
   "cell_type": "code",
   "execution_count": 21,
   "metadata": {},
   "outputs": [],
   "source": [
    "connection = psycopg2.connect(\n",
    "    dbname=DBNAME,\n",
    "    user=USER,\n",
    "    host=HOST,\n",
    "    password=PASSWORD,\n",
    "    port=PORT\n",
    ")"
   ]
  },
  {
   "attachments": {},
   "cell_type": "markdown",
   "metadata": {},
   "source": [
    "# Основная работа"
   ]
  },
  {
   "attachments": {},
   "cell_type": "markdown",
   "metadata": {},
   "source": [
    "## Предварительный анализ данных"
   ]
  },
  {
   "attachments": {},
   "cell_type": "markdown",
   "metadata": {},
   "source": [
    "### **Задание 3.1**  \n"
   ]
  },
  {
   "cell_type": "code",
   "execution_count": 35,
   "metadata": {},
   "outputs": [
    {
     "name": "stderr",
     "output_type": "stream",
     "text": [
      "C:\\Users\\CheshirSmile\\AppData\\Local\\Temp\\ipykernel_19904\\3281498106.py:6: UserWarning: pandas only supports SQLAlchemy connectable (engine/connection) or database string URI or sqlite3 DBAPI2 connection. Other DBAPI2 objects are not tested. Please consider using SQLAlchemy.\n",
      "  vacancies_df = pd.read_sql_query(query_vaccnt,connection) # создаем дата фрейм из данных запроса\n"
     ]
    },
    {
     "name": "stdout",
     "output_type": "stream",
     "text": [
      "<class 'pandas.core.frame.DataFrame'>\n",
      "RangeIndex: 49197 entries, 0 to 49196\n",
      "Data columns (total 10 columns):\n",
      " #   Column       Non-Null Count  Dtype  \n",
      "---  ------       --------------  -----  \n",
      " 0   id           49197 non-null  int64  \n",
      " 1   name         49197 non-null  object \n",
      " 2   key_skills   40741 non-null  object \n",
      " 3   schedule     49197 non-null  object \n",
      " 4   experience   49197 non-null  object \n",
      " 5   employment   49197 non-null  object \n",
      " 6   salary_from  21485 non-null  float64\n",
      " 7   salary_to    12690 non-null  float64\n",
      " 8   area_id      49197 non-null  int64  \n",
      " 9   employer_id  49197 non-null  int64  \n",
      "dtypes: float64(2), int64(3), object(5)\n",
      "memory usage: 3.8+ MB\n"
     ]
    }
   ],
   "source": [
    "# создаем запрос на вызов всех столбцов и строк из таблицы vacancies схемы public\n",
    "query_vaccnt = f'''select * /*выбираем все из таблицы vacancies */\n",
    "            from public.vacancies    /* из схемы public таблицы vacancies */             \n",
    "        '''\n",
    "\n",
    "vacancies_df = pd.read_sql_query(query_vaccnt,connection) # создаем дата фрейм из данных запроса\n",
    "vacancies_df.info() # выводим сведения о дата фреме"
   ]
  },
  {
   "attachments": {},
   "cell_type": "markdown",
   "metadata": {},
   "source": [
    "### **Задание 3.2**  \n"
   ]
  },
  {
   "cell_type": "code",
   "execution_count": 34,
   "metadata": {},
   "outputs": [
    {
     "name": "stderr",
     "output_type": "stream",
     "text": [
      "C:\\Users\\CheshirSmile\\AppData\\Local\\Temp\\ipykernel_19904\\3993865010.py:5: UserWarning: pandas only supports SQLAlchemy connectable (engine/connection) or database string URI or sqlite3 DBAPI2 connection. Other DBAPI2 objects are not tested. Please consider using SQLAlchemy.\n",
      "  employers__df = pd.read_sql_query(query_empcnt,connection) # создаем дата фрейм из данных запроса\n"
     ]
    },
    {
     "data": {
      "text/html": [
       "<div>\n",
       "<style scoped>\n",
       "    .dataframe tbody tr th:only-of-type {\n",
       "        vertical-align: middle;\n",
       "    }\n",
       "\n",
       "    .dataframe tbody tr th {\n",
       "        vertical-align: top;\n",
       "    }\n",
       "\n",
       "    .dataframe thead th {\n",
       "        text-align: right;\n",
       "    }\n",
       "</style>\n",
       "<table border=\"1\" class=\"dataframe\">\n",
       "  <thead>\n",
       "    <tr style=\"text-align: right;\">\n",
       "      <th></th>\n",
       "      <th>employers_count</th>\n",
       "    </tr>\n",
       "  </thead>\n",
       "  <tbody>\n",
       "    <tr>\n",
       "      <th>0</th>\n",
       "      <td>23501</td>\n",
       "    </tr>\n",
       "  </tbody>\n",
       "</table>\n",
       "</div>"
      ],
      "text/plain": [
       "   employers_count\n",
       "0            23501"
      ]
     },
     "execution_count": 34,
     "metadata": {},
     "output_type": "execute_result"
    }
   ],
   "source": [
    "# создаем запрос из таблицы employers схемы public\n",
    "query_empcnt = f'''select count(*) employers_count /*подсчитываем количество строк в таблице employers, задаем имя для столбца*/\n",
    "            from public.employers   /* из схемы public таблицы employers */         \n",
    "        '''\n",
    "employers__df = pd.read_sql_query(query_empcnt,connection) # создаем дата фрейм из данных запроса\n",
    "employers__df # выводим дата фрем"
   ]
  },
  {
   "attachments": {},
   "cell_type": "markdown",
   "metadata": {},
   "source": [
    "### **Задание 3.3**  \n"
   ]
  },
  {
   "cell_type": "code",
   "execution_count": 33,
   "metadata": {},
   "outputs": [
    {
     "name": "stderr",
     "output_type": "stream",
     "text": [
      "C:\\Users\\CheshirSmile\\AppData\\Local\\Temp\\ipykernel_19904\\3003094215.py:5: UserWarning: pandas only supports SQLAlchemy connectable (engine/connection) or database string URI or sqlite3 DBAPI2 connection. Other DBAPI2 objects are not tested. Please consider using SQLAlchemy.\n",
      "  areas_df = pd.read_sql_query(query_areacnt,connection) # создаем дата фрейм из данных запроса\n"
     ]
    },
    {
     "data": {
      "text/html": [
       "<div>\n",
       "<style scoped>\n",
       "    .dataframe tbody tr th:only-of-type {\n",
       "        vertical-align: middle;\n",
       "    }\n",
       "\n",
       "    .dataframe tbody tr th {\n",
       "        vertical-align: top;\n",
       "    }\n",
       "\n",
       "    .dataframe thead th {\n",
       "        text-align: right;\n",
       "    }\n",
       "</style>\n",
       "<table border=\"1\" class=\"dataframe\">\n",
       "  <thead>\n",
       "    <tr style=\"text-align: right;\">\n",
       "      <th></th>\n",
       "      <th>regions_count</th>\n",
       "    </tr>\n",
       "  </thead>\n",
       "  <tbody>\n",
       "    <tr>\n",
       "      <th>0</th>\n",
       "      <td>1362</td>\n",
       "    </tr>\n",
       "  </tbody>\n",
       "</table>\n",
       "</div>"
      ],
      "text/plain": [
       "   regions_count\n",
       "0           1362"
      ]
     },
     "execution_count": 33,
     "metadata": {},
     "output_type": "execute_result"
    }
   ],
   "source": [
    "# создаем запрос из таблицы areas схемы public\n",
    "query_areacnt = f'''select count(*) regions_count /*подсчитываем количество строк в таблице areas, задаем имя для столбца*/\n",
    "            from public.areas /* из схемы public таблицы areas */\n",
    "            '''\n",
    "areas_df = pd.read_sql_query(query_areacnt,connection) # создаем дата фрейм из данных запроса\n",
    "areas_df # выводим дата фрем"
   ]
  },
  {
   "attachments": {},
   "cell_type": "markdown",
   "metadata": {},
   "source": [
    "### **Задание 3.4**\n"
   ]
  },
  {
   "cell_type": "code",
   "execution_count": 32,
   "metadata": {},
   "outputs": [
    {
     "name": "stderr",
     "output_type": "stream",
     "text": [
      "C:\\Users\\CheshirSmile\\AppData\\Local\\Temp\\ipykernel_19904\\2672429431.py:6: UserWarning: pandas only supports SQLAlchemy connectable (engine/connection) or database string URI or sqlite3 DBAPI2 connection. Other DBAPI2 objects are not tested. Please consider using SQLAlchemy.\n",
      "  industries_df = pd.read_sql_query(query_indcnt,connection) # создаем дата фрейм из данных запроса\n"
     ]
    },
    {
     "data": {
      "text/html": [
       "<div>\n",
       "<style scoped>\n",
       "    .dataframe tbody tr th:only-of-type {\n",
       "        vertical-align: middle;\n",
       "    }\n",
       "\n",
       "    .dataframe tbody tr th {\n",
       "        vertical-align: top;\n",
       "    }\n",
       "\n",
       "    .dataframe thead th {\n",
       "        text-align: right;\n",
       "    }\n",
       "</style>\n",
       "<table border=\"1\" class=\"dataframe\">\n",
       "  <thead>\n",
       "    <tr style=\"text-align: right;\">\n",
       "      <th></th>\n",
       "      <th>industries_count</th>\n",
       "    </tr>\n",
       "  </thead>\n",
       "  <tbody>\n",
       "    <tr>\n",
       "      <th>0</th>\n",
       "      <td>294</td>\n",
       "    </tr>\n",
       "  </tbody>\n",
       "</table>\n",
       "</div>"
      ],
      "text/plain": [
       "   industries_count\n",
       "0               294"
      ]
     },
     "execution_count": 32,
     "metadata": {},
     "output_type": "execute_result"
    }
   ],
   "source": [
    "# создаем запрос из таблицы industries схемы public\n",
    "query_indcnt = f'''select count(*) industries_count /*подсчитываем количество строк в таблице industries, задаем имя для столбца*/\n",
    "            from public.industries /* из схемы public таблицы industries */\n",
    "            '''\n",
    "\n",
    "industries_df = pd.read_sql_query(query_indcnt,connection) # создаем дата фрейм из данных запроса\n",
    "industries_df # выводим дата фрем"
   ]
  },
  {
   "attachments": {},
   "cell_type": "markdown",
   "metadata": {},
   "source": [
    "### **Выводы**\n"
   ]
  },
  {
   "attachments": {},
   "cell_type": "markdown",
   "metadata": {},
   "source": [
    "В таблице vacancies представленны 49197 вакансий; в столбце salary_from заполнено ~50%, в столбце salary_to заполнено ~ 20%. В таблице employers представлены данные о 23501 работодателей. В таблице areas представлены данные о 1362 регионах. В таблице industries представлены данные о 294 сферах деятельности. Т.о. в схеме public присутвуют данные о 49197 вакансиях от 23501 работодателей по 294 сферам деятельности в 1362 регионах."
   ]
  },
  {
   "attachments": {},
   "cell_type": "markdown",
   "metadata": {},
   "source": [
    "## Детальный анализ вакансий"
   ]
  },
  {
   "attachments": {},
   "cell_type": "markdown",
   "metadata": {},
   "source": [
    "### **Задание 4.1**  \n",
    "\n",
    " "
   ]
  },
  {
   "cell_type": "code",
   "execution_count": 31,
   "metadata": {},
   "outputs": [
    {
     "name": "stderr",
     "output_type": "stream",
     "text": [
      "C:\\Users\\CheshirSmile\\AppData\\Local\\Temp\\ipykernel_19904\\453874910.py:10: UserWarning: pandas only supports SQLAlchemy connectable (engine/connection) or database string URI or sqlite3 DBAPI2 connection. Other DBAPI2 objects are not tested. Please consider using SQLAlchemy.\n",
      "  cnt_df = pd.read_sql_query(query_cnt,connection) # создаем дата фрейм из данных запроса\n"
     ]
    },
    {
     "data": {
      "text/html": [
       "<div>\n",
       "<style scoped>\n",
       "    .dataframe tbody tr th:only-of-type {\n",
       "        vertical-align: middle;\n",
       "    }\n",
       "\n",
       "    .dataframe tbody tr th {\n",
       "        vertical-align: top;\n",
       "    }\n",
       "\n",
       "    .dataframe thead th {\n",
       "        text-align: right;\n",
       "    }\n",
       "</style>\n",
       "<table border=\"1\" class=\"dataframe\">\n",
       "  <thead>\n",
       "    <tr style=\"text-align: right;\">\n",
       "      <th></th>\n",
       "      <th>area</th>\n",
       "      <th>cnt</th>\n",
       "    </tr>\n",
       "  </thead>\n",
       "  <tbody>\n",
       "    <tr>\n",
       "      <th>0</th>\n",
       "      <td>Москва</td>\n",
       "      <td>5333</td>\n",
       "    </tr>\n",
       "    <tr>\n",
       "      <th>1</th>\n",
       "      <td>Санкт-Петербург</td>\n",
       "      <td>2851</td>\n",
       "    </tr>\n",
       "    <tr>\n",
       "      <th>2</th>\n",
       "      <td>Минск</td>\n",
       "      <td>2112</td>\n",
       "    </tr>\n",
       "    <tr>\n",
       "      <th>3</th>\n",
       "      <td>Новосибирск</td>\n",
       "      <td>2006</td>\n",
       "    </tr>\n",
       "    <tr>\n",
       "      <th>4</th>\n",
       "      <td>Алматы</td>\n",
       "      <td>1892</td>\n",
       "    </tr>\n",
       "  </tbody>\n",
       "</table>\n",
       "</div>"
      ],
      "text/plain": [
       "              area   cnt\n",
       "0           Москва  5333\n",
       "1  Санкт-Петербург  2851\n",
       "2            Минск  2112\n",
       "3      Новосибирск  2006\n",
       "4           Алматы  1892"
      ]
     },
     "execution_count": 31,
     "metadata": {},
     "output_type": "execute_result"
    }
   ],
   "source": [
    "# формируем запрос на вывод кол-ва вакансий по регионам, выводим пять регионов с наибольшим кол-вом вакансий отсортированных по убыванию.\n",
    "query_cnt = f'''select a.name area, count(v.id) cnt /* выводим два столбца: из таблицы area стоблец name; cnt - столбец с кол-вом строк вакансий соответсвующих name */\n",
    "                from public.areas a /* извлекаем из таблицы areas с присвоением ей алиаса а */\n",
    "                    join public.vacancies v on a.id = v.area_id /* к таблице areas присоединяем данные из таблицы vacancies, сводим по столбцам с id регионов */\n",
    "                group by a.name /* группируем по первому столбцу(name) */\n",
    "                order by 2 desc /* сортируем по второму столбцу(кол-ву вакансий) в порядке убывания */\n",
    "                limit 5 /* кол-во выводимых значений 5 */\n",
    "                ''' \n",
    "\n",
    "cnt_df = pd.read_sql_query(query_cnt,connection) # создаем дата фрейм из данных запроса\n",
    "cnt_df # выводим дата фрем"
   ]
  },
  {
   "attachments": {},
   "cell_type": "markdown",
   "metadata": {},
   "source": [
    "### **Задание 4.2**  \n"
   ]
  },
  {
   "cell_type": "code",
   "execution_count": 30,
   "metadata": {},
   "outputs": [
    {
     "name": "stderr",
     "output_type": "stream",
     "text": [
      "C:\\Users\\CheshirSmile\\AppData\\Local\\Temp\\ipykernel_19904\\1186021314.py:7: UserWarning: pandas only supports SQLAlchemy connectable (engine/connection) or database string URI or sqlite3 DBAPI2 connection. Other DBAPI2 objects are not tested. Please consider using SQLAlchemy.\n",
      "  vac_df = pd.read_sql_query(query_vac_count,connection)# создаем дата фрейм из данных запроса\n"
     ]
    },
    {
     "data": {
      "text/html": [
       "<div>\n",
       "<style scoped>\n",
       "    .dataframe tbody tr th:only-of-type {\n",
       "        vertical-align: middle;\n",
       "    }\n",
       "\n",
       "    .dataframe tbody tr th {\n",
       "        vertical-align: top;\n",
       "    }\n",
       "\n",
       "    .dataframe thead th {\n",
       "        text-align: right;\n",
       "    }\n",
       "</style>\n",
       "<table border=\"1\" class=\"dataframe\">\n",
       "  <thead>\n",
       "    <tr style=\"text-align: right;\">\n",
       "      <th></th>\n",
       "      <th>count not null</th>\n",
       "    </tr>\n",
       "  </thead>\n",
       "  <tbody>\n",
       "    <tr>\n",
       "      <th>0</th>\n",
       "      <td>24073</td>\n",
       "    </tr>\n",
       "  </tbody>\n",
       "</table>\n",
       "</div>"
      ],
      "text/plain": [
       "   count not null\n",
       "0           24073"
      ]
     },
     "execution_count": 30,
     "metadata": {},
     "output_type": "execute_result"
    }
   ],
   "source": [
    "# формируем запрос для определения у какого кол-ва вакансий из таблицы vacancies заполнено хотя бы один из двух полей с зарплатой\n",
    "query_vac_count = f'''select count(id) as \"count not null\" /* выводим сумму строк по столбцу id, присваиваем столбцу алиас */\n",
    "            from public.vacancies /* указываем схему и таблицу от куда берем данные */\n",
    "            where salary_from is not null or salary_to is not null /* создаем условие вывода: учитываются только те строки в которых либо salary_from либо salary_to не null */\n",
    "        '''\n",
    "        \n",
    "vac_df = pd.read_sql_query(query_vac_count,connection)# создаем дата фрейм из данных запроса\n",
    "vac_df # выводим дата фрем"
   ]
  },
  {
   "attachments": {},
   "cell_type": "markdown",
   "metadata": {},
   "source": [
    "### **Задание 4.3**  \n",
    "\n"
   ]
  },
  {
   "cell_type": "code",
   "execution_count": 29,
   "metadata": {},
   "outputs": [
    {
     "name": "stderr",
     "output_type": "stream",
     "text": [
      "C:\\Users\\CheshirSmile\\AppData\\Local\\Temp\\ipykernel_19904\\2905387058.py:8: UserWarning: pandas only supports SQLAlchemy connectable (engine/connection) or database string URI or sqlite3 DBAPI2 connection. Other DBAPI2 objects are not tested. Please consider using SQLAlchemy.\n",
      "  salary_mean_df = pd.read_sql_query(query_salary_mean,connection)# создаем дата фрейм из данных запроса\n"
     ]
    },
    {
     "data": {
      "text/html": [
       "<div>\n",
       "<style scoped>\n",
       "    .dataframe tbody tr th:only-of-type {\n",
       "        vertical-align: middle;\n",
       "    }\n",
       "\n",
       "    .dataframe tbody tr th {\n",
       "        vertical-align: top;\n",
       "    }\n",
       "\n",
       "    .dataframe thead th {\n",
       "        text-align: right;\n",
       "    }\n",
       "</style>\n",
       "<table border=\"1\" class=\"dataframe\">\n",
       "  <thead>\n",
       "    <tr style=\"text-align: right;\">\n",
       "      <th></th>\n",
       "      <th>salary_from</th>\n",
       "      <th>salary_to</th>\n",
       "    </tr>\n",
       "  </thead>\n",
       "  <tbody>\n",
       "    <tr>\n",
       "      <th>0</th>\n",
       "      <td>71065.0</td>\n",
       "      <td>110537.0</td>\n",
       "    </tr>\n",
       "  </tbody>\n",
       "</table>\n",
       "</div>"
      ],
      "text/plain": [
       "   salary_from  salary_to\n",
       "0      71065.0   110537.0"
      ]
     },
     "execution_count": 29,
     "metadata": {},
     "output_type": "execute_result"
    }
   ],
   "source": [
    "# создаем запрос для вывода среднего значения нижней и верхней границы зарплатной вилки с округлением до целого числа\n",
    "query_salary_mean = f'''select round(avg(salary_from)) salary_from, round(avg(salary_to)) salary_to /* берем из таблицы vacancies столбцы salary_from и salary_to, находим среднее по каждому*/\n",
    "                                                                                                        /* столбцу, округляем значение каждого столбца до целого, даем столбцам алиасы */\n",
    "            from public.vacancies /* указываем от куда берем данные */\n",
    "            \n",
    "        '''\n",
    "        \n",
    "salary_mean_df = pd.read_sql_query(query_salary_mean,connection)# создаем дата фрейм из данных запроса\n",
    "salary_mean_df# выводим дата фрем"
   ]
  },
  {
   "attachments": {},
   "cell_type": "markdown",
   "metadata": {},
   "source": [
    "### **Задание 4.4**  \n",
    "\n"
   ]
  },
  {
   "cell_type": "code",
   "execution_count": 28,
   "metadata": {},
   "outputs": [
    {
     "name": "stderr",
     "output_type": "stream",
     "text": [
      "C:\\Users\\CheshirSmile\\AppData\\Local\\Temp\\ipykernel_19904\\1396902071.py:10: UserWarning: pandas only supports SQLAlchemy connectable (engine/connection) or database string URI or sqlite3 DBAPI2 connection. Other DBAPI2 objects are not tested. Please consider using SQLAlchemy.\n",
      "  shedemp_df = pd.read_sql_query(query_shedemp,connection) # создаем дата фрейм из данных запроса\n"
     ]
    },
    {
     "data": {
      "text/html": [
       "<div>\n",
       "<style scoped>\n",
       "    .dataframe tbody tr th:only-of-type {\n",
       "        vertical-align: middle;\n",
       "    }\n",
       "\n",
       "    .dataframe tbody tr th {\n",
       "        vertical-align: top;\n",
       "    }\n",
       "\n",
       "    .dataframe thead th {\n",
       "        text-align: right;\n",
       "    }\n",
       "</style>\n",
       "<table border=\"1\" class=\"dataframe\">\n",
       "  <thead>\n",
       "    <tr style=\"text-align: right;\">\n",
       "      <th></th>\n",
       "      <th>schedule</th>\n",
       "      <th>employment</th>\n",
       "      <th>count</th>\n",
       "    </tr>\n",
       "  </thead>\n",
       "  <tbody>\n",
       "    <tr>\n",
       "      <th>0</th>\n",
       "      <td>Удаленная работа</td>\n",
       "      <td>Полная занятость</td>\n",
       "      <td>7802</td>\n",
       "    </tr>\n",
       "  </tbody>\n",
       "</table>\n",
       "</div>"
      ],
      "text/plain": [
       "           schedule        employment  count\n",
       "0  Удаленная работа  Полная занятость   7802"
      ]
     },
     "execution_count": 28,
     "metadata": {},
     "output_type": "execute_result"
    }
   ],
   "source": [
    "# создаем запрос для вывода кол-ва вакансий для каждого сочетания типа рабочего графика и типа трудоустройства. Выводим пару находящуюся на втором месте по популярности.\n",
    "query_shedemp = f'''select schedule, employment, count(id) /* выбираем столбцы типа графика(schedule), типа трудоустройства(employment), кол-во строк по id */\n",
    "            from public.vacancies /* из схемы public и таблицы vacancies */\n",
    "            group by 1, 2 /* группируем вначале по первому столбцу, затем по второму */\n",
    "            order by 3 desc /* упорядочиваем по третьему столбцу в порядке убывания */\n",
    "            offset 1 /* исключаем первую строку из вывода */\n",
    "            limit 1 /* ограничиваем вывод одной строкой */\n",
    "            \n",
    "        '''\n",
    "shedemp_df = pd.read_sql_query(query_shedemp,connection) # создаем дата фрейм из данных запроса\n",
    "shedemp_df # выводим дата фрем"
   ]
  },
  {
   "attachments": {},
   "cell_type": "markdown",
   "metadata": {},
   "source": [
    "### **Задание 4.5**  \n"
   ]
  },
  {
   "cell_type": "code",
   "execution_count": 27,
   "metadata": {},
   "outputs": [
    {
     "name": "stderr",
     "output_type": "stream",
     "text": [
      "C:\\Users\\CheshirSmile\\AppData\\Local\\Temp\\ipykernel_19904\\2998081855.py:9: UserWarning: pandas only supports SQLAlchemy connectable (engine/connection) or database string URI or sqlite3 DBAPI2 connection. Other DBAPI2 objects are not tested. Please consider using SQLAlchemy.\n",
      "  exp_df = pd.read_sql_query(query_exp,connection)# создаем дата фрейм из данных запроса\n"
     ]
    },
    {
     "data": {
      "text/html": [
       "<div>\n",
       "<style scoped>\n",
       "    .dataframe tbody tr th:only-of-type {\n",
       "        vertical-align: middle;\n",
       "    }\n",
       "\n",
       "    .dataframe tbody tr th {\n",
       "        vertical-align: top;\n",
       "    }\n",
       "\n",
       "    .dataframe thead th {\n",
       "        text-align: right;\n",
       "    }\n",
       "</style>\n",
       "<table border=\"1\" class=\"dataframe\">\n",
       "  <thead>\n",
       "    <tr style=\"text-align: right;\">\n",
       "      <th></th>\n",
       "      <th>experience</th>\n",
       "      <th>count</th>\n",
       "    </tr>\n",
       "  </thead>\n",
       "  <tbody>\n",
       "    <tr>\n",
       "      <th>0</th>\n",
       "      <td>Более 6 лет</td>\n",
       "      <td>1337</td>\n",
       "    </tr>\n",
       "    <tr>\n",
       "      <th>1</th>\n",
       "      <td>Нет опыта</td>\n",
       "      <td>7197</td>\n",
       "    </tr>\n",
       "    <tr>\n",
       "      <th>2</th>\n",
       "      <td>От 3 до 6 лет</td>\n",
       "      <td>14511</td>\n",
       "    </tr>\n",
       "    <tr>\n",
       "      <th>3</th>\n",
       "      <td>От 1 года до 3 лет</td>\n",
       "      <td>26152</td>\n",
       "    </tr>\n",
       "  </tbody>\n",
       "</table>\n",
       "</div>"
      ],
      "text/plain": [
       "           experience  count\n",
       "0         Более 6 лет   1337\n",
       "1           Нет опыта   7197\n",
       "2       От 3 до 6 лет  14511\n",
       "3  От 1 года до 3 лет  26152"
      ]
     },
     "execution_count": 27,
     "metadata": {},
     "output_type": "execute_result"
    }
   ],
   "source": [
    "# пишем запрос на вывод всех вариантов требуемого опыта в порядке возрастания кол-ва вакансий, в которых указан данный вариант.\n",
    "query_exp = f'''select experience, count(id) /* выбираем столбец опыт работы(experience), столбец с кол-вом строк по столбцу id */\n",
    "            from public.vacancies /* из схемы public таблицы vacancies */\n",
    "            group by 1 /* группируем по первому столбцу (experience) */\n",
    "            order by 2 asc /* сортируем по второму столбцу в порядке возрастания */\n",
    "            \n",
    "            \n",
    "        '''\n",
    "exp_df = pd.read_sql_query(query_exp,connection)# создаем дата фрейм из данных запроса\n",
    "exp_df # выводим дата фрем"
   ]
  },
  {
   "attachments": {},
   "cell_type": "markdown",
   "metadata": {},
   "source": [
    "### Выводы"
   ]
  },
  {
   "attachments": {},
   "cell_type": "markdown",
   "metadata": {},
   "source": [
    "В предоставленных данных наибольшее кол-во вакансий представлено по регионам: Москва 5333, Санкт-Петербург 2851, Минск\t2112, Новосибирск 2006, Алматы 1892. На эти пять регионов приходится 1/5 всех вакансий (из 1362 регионов). На Москву ~ 1/12. У 24073 вакансий заполнено хотя бы одно поле зарплатной вилки (верхняя и/или нижняя), что составляет примерно половину всех вакансий. Средее значение нижнего уровня зарплатной вилки 71065.0, среднее значение верхнего уровня зарплатной вилки 110537.0, нужно иметь ввиду, что нижний уровень есть только у половины вакансий, а верхний у около 20% вакансий, следует посмотреть наличие экстремальных значений и их влияние на среднее значение.  Наибольшее кол-во вакансий из многообразия комбинаций типа рабочего графика и типа трудоустройства является удаленная работа при полной занятости - 7802 вакансий. Наименее распространены вакансии с запросом на опыт работы более 6 лет - 1337 (2,7%), наиболее распространенны (более половины всех вакансий) с запросом на опыт работы от 1 года до 3 лет - 26152 (53%). Запрос от 3 до 6 лет занимает вторую позицию и составил 14511(29,5%); без опыта работы - 7197 (14,6%)."
   ]
  },
  {
   "attachments": {},
   "cell_type": "markdown",
   "metadata": {},
   "source": [
    "## Анализ работодателей"
   ]
  },
  {
   "attachments": {},
   "cell_type": "markdown",
   "metadata": {},
   "source": [
    "### **Задание 5.1**  \n"
   ]
  },
  {
   "cell_type": "code",
   "execution_count": 26,
   "metadata": {},
   "outputs": [
    {
     "name": "stderr",
     "output_type": "stream",
     "text": [
      "C:\\Users\\CheshirSmile\\AppData\\Local\\Temp\\ipykernel_19904\\3038158672.py:10: UserWarning: pandas only supports SQLAlchemy connectable (engine/connection) or database string URI or sqlite3 DBAPI2 connection. Other DBAPI2 objects are not tested. Please consider using SQLAlchemy.\n",
      "  employers_df = pd.read_sql_query(query_employers,connection)# создаем дата фрейм из данных запроса\n"
     ]
    },
    {
     "data": {
      "text/html": [
       "<div>\n",
       "<style scoped>\n",
       "    .dataframe tbody tr th:only-of-type {\n",
       "        vertical-align: middle;\n",
       "    }\n",
       "\n",
       "    .dataframe tbody tr th {\n",
       "        vertical-align: top;\n",
       "    }\n",
       "\n",
       "    .dataframe thead th {\n",
       "        text-align: right;\n",
       "    }\n",
       "</style>\n",
       "<table border=\"1\" class=\"dataframe\">\n",
       "  <thead>\n",
       "    <tr style=\"text-align: right;\">\n",
       "      <th></th>\n",
       "      <th>employer</th>\n",
       "      <th>count</th>\n",
       "    </tr>\n",
       "  </thead>\n",
       "  <tbody>\n",
       "    <tr>\n",
       "      <th>0</th>\n",
       "      <td>Яндекс</td>\n",
       "      <td>1933</td>\n",
       "    </tr>\n",
       "    <tr>\n",
       "      <th>1</th>\n",
       "      <td>Ростелеком</td>\n",
       "      <td>491</td>\n",
       "    </tr>\n",
       "    <tr>\n",
       "      <th>2</th>\n",
       "      <td>Тинькофф</td>\n",
       "      <td>444</td>\n",
       "    </tr>\n",
       "    <tr>\n",
       "      <th>3</th>\n",
       "      <td>СБЕР</td>\n",
       "      <td>428</td>\n",
       "    </tr>\n",
       "    <tr>\n",
       "      <th>4</th>\n",
       "      <td>Газпром нефть</td>\n",
       "      <td>331</td>\n",
       "    </tr>\n",
       "  </tbody>\n",
       "</table>\n",
       "</div>"
      ],
      "text/plain": [
       "        employer  count\n",
       "0         Яндекс   1933\n",
       "1     Ростелеком    491\n",
       "2       Тинькофф    444\n",
       "3           СБЕР    428\n",
       "4  Газпром нефть    331"
      ]
     },
     "execution_count": 26,
     "metadata": {},
     "output_type": "execute_result"
    }
   ],
   "source": [
    "# создаем запрос который выведет работодателей по кол-ву вакансий в порядке убывания.\n",
    "query_employers = f'''select e.name employer, count(*) count /* выбираем столбец name из таблицы employers присвоив алиас employer, выводим кол-во строк присваиваем алиас count */\n",
    "                from public.employers e /*  из схемы public и таблицы employers */\n",
    "                    join public.vacancies v on e.id = v.employer_id /* объединяем с таблицей vacancies по id работодателя */\n",
    "                group by e.name /* группируем по столбцу name */\n",
    "                order by 2 desc /* упорядывачаем по второму столбцу в порядке убывания */\n",
    "                limit 5 /* выводим только пять первый строк */\n",
    "                '''\n",
    "\n",
    "employers_df = pd.read_sql_query(query_employers,connection)# создаем дата фрейм из данных запроса\n",
    "employers_df # выводим дата фрем"
   ]
  },
  {
   "attachments": {},
   "cell_type": "markdown",
   "metadata": {},
   "source": [
    "### **Задание 5.2**  \n"
   ]
  },
  {
   "cell_type": "code",
   "execution_count": 25,
   "metadata": {},
   "outputs": [
    {
     "name": "stderr",
     "output_type": "stream",
     "text": [
      "C:\\Users\\CheshirSmile\\AppData\\Local\\Temp\\ipykernel_19904\\1874580880.py:16: UserWarning: pandas only supports SQLAlchemy connectable (engine/connection) or database string URI or sqlite3 DBAPI2 connection. Other DBAPI2 objects are not tested. Please consider using SQLAlchemy.\n",
      "  areaemp_df = pd.read_sql_query(query_areaempl,connection)# создаем дата фрейм из данных запроса\n"
     ]
    },
    {
     "data": {
      "text/html": [
       "<div>\n",
       "<style scoped>\n",
       "    .dataframe tbody tr th:only-of-type {\n",
       "        vertical-align: middle;\n",
       "    }\n",
       "\n",
       "    .dataframe tbody tr th {\n",
       "        vertical-align: top;\n",
       "    }\n",
       "\n",
       "    .dataframe thead th {\n",
       "        text-align: right;\n",
       "    }\n",
       "</style>\n",
       "<table border=\"1\" class=\"dataframe\">\n",
       "  <thead>\n",
       "    <tr style=\"text-align: right;\">\n",
       "      <th></th>\n",
       "      <th>region</th>\n",
       "      <th>vacation_count</th>\n",
       "      <th>employers_count</th>\n",
       "    </tr>\n",
       "  </thead>\n",
       "  <tbody>\n",
       "    <tr>\n",
       "      <th>0</th>\n",
       "      <td>Россия</td>\n",
       "      <td>0</td>\n",
       "      <td>410</td>\n",
       "    </tr>\n",
       "    <tr>\n",
       "      <th>1</th>\n",
       "      <td>Казахстан</td>\n",
       "      <td>0</td>\n",
       "      <td>207</td>\n",
       "    </tr>\n",
       "    <tr>\n",
       "      <th>2</th>\n",
       "      <td>Московская область</td>\n",
       "      <td>0</td>\n",
       "      <td>75</td>\n",
       "    </tr>\n",
       "    <tr>\n",
       "      <th>3</th>\n",
       "      <td>Краснодарский край</td>\n",
       "      <td>0</td>\n",
       "      <td>19</td>\n",
       "    </tr>\n",
       "    <tr>\n",
       "      <th>4</th>\n",
       "      <td>Беларусь</td>\n",
       "      <td>0</td>\n",
       "      <td>18</td>\n",
       "    </tr>\n",
       "    <tr>\n",
       "      <th>...</th>\n",
       "      <td>...</td>\n",
       "      <td>...</td>\n",
       "      <td>...</td>\n",
       "    </tr>\n",
       "    <tr>\n",
       "      <th>181</th>\n",
       "      <td>Шардара</td>\n",
       "      <td>0</td>\n",
       "      <td>1</td>\n",
       "    </tr>\n",
       "    <tr>\n",
       "      <th>182</th>\n",
       "      <td>Швеция</td>\n",
       "      <td>0</td>\n",
       "      <td>1</td>\n",
       "    </tr>\n",
       "    <tr>\n",
       "      <th>183</th>\n",
       "      <td>Щучье</td>\n",
       "      <td>0</td>\n",
       "      <td>1</td>\n",
       "    </tr>\n",
       "    <tr>\n",
       "      <th>184</th>\n",
       "      <td>Эквадор</td>\n",
       "      <td>0</td>\n",
       "      <td>1</td>\n",
       "    </tr>\n",
       "    <tr>\n",
       "      <th>185</th>\n",
       "      <td>Южная Корея</td>\n",
       "      <td>0</td>\n",
       "      <td>1</td>\n",
       "    </tr>\n",
       "  </tbody>\n",
       "</table>\n",
       "<p>186 rows × 3 columns</p>\n",
       "</div>"
      ],
      "text/plain": [
       "                 region  vacation_count  employers_count\n",
       "0                Россия               0              410\n",
       "1             Казахстан               0              207\n",
       "2    Московская область               0               75\n",
       "3    Краснодарский край               0               19\n",
       "4              Беларусь               0               18\n",
       "..                  ...             ...              ...\n",
       "181             Шардара               0                1\n",
       "182              Швеция               0                1\n",
       "183               Щучье               0                1\n",
       "184             Эквадор               0                1\n",
       "185         Южная Корея               0                1\n",
       "\n",
       "[186 rows x 3 columns]"
      ]
     },
     "execution_count": 25,
     "metadata": {},
     "output_type": "execute_result"
    }
   ],
   "source": [
    "\n",
    "# создаем запрос,который для каждого региона вывеедет кол-во работодателей и вакансий в нем. Выводим регион без вакансий с наибольший кол-вом работодателей.\n",
    "query_areaempl = f'''select distinct a.name as region, /* выбираем уникальные значения столбеца name таблицы areas */                 \n",
    "                    count(v.id) as vacation_count, /* выводим столбец с кол-вом вакансий с алиасом vacation_count */\n",
    "                    count(e.id) as employers_count /* выводим столбец с кол-вом работодателей с алиасом employers_count */\n",
    "                     \n",
    "                    from public.areas a /* из схемы public таблицы areas */\n",
    "                      left join public.vacancies v on v.area_id = a.id /* объединяем слева с таблицей vacancies по id региона */\n",
    "                      left join public.employers e on e.area = a.id  /* объединяем слева с таблице employers по id региона */\n",
    "                       \n",
    "                    group by 1 /* группируем по первому столбцу */\n",
    "                    having count(v.id) = 0 and count(e.id) !=0 /* выводим только те строкее в которых кол-во вакансий равно 0 */\n",
    "                    order by 3 desc /* сортируем по столцу с кол-вом работодателей по убыванию */\n",
    "                                       \n",
    "                '''\n",
    "                \n",
    "areaemp_df = pd.read_sql_query(query_areaempl,connection)# создаем дата фрейм из данных запроса\n",
    "areaemp_df # выводим дата фрем"
   ]
  },
  {
   "attachments": {},
   "cell_type": "markdown",
   "metadata": {},
   "source": [
    "### **Задание 5.3**  \n"
   ]
  },
  {
   "cell_type": "code",
   "execution_count": 24,
   "metadata": {},
   "outputs": [
    {
     "name": "stderr",
     "output_type": "stream",
     "text": [
      "C:\\Users\\CheshirSmile\\AppData\\Local\\Temp\\ipykernel_19904\\2696396640.py:14: UserWarning: pandas only supports SQLAlchemy connectable (engine/connection) or database string URI or sqlite3 DBAPI2 connection. Other DBAPI2 objects are not tested. Please consider using SQLAlchemy.\n",
      "  areaemployers_df = pd.read_sql_query(query_areaemployers,connection)# создаем дата фрейм из данных запроса\n"
     ]
    },
    {
     "data": {
      "text/html": [
       "<div>\n",
       "<style scoped>\n",
       "    .dataframe tbody tr th:only-of-type {\n",
       "        vertical-align: middle;\n",
       "    }\n",
       "\n",
       "    .dataframe tbody tr th {\n",
       "        vertical-align: top;\n",
       "    }\n",
       "\n",
       "    .dataframe thead th {\n",
       "        text-align: right;\n",
       "    }\n",
       "</style>\n",
       "<table border=\"1\" class=\"dataframe\">\n",
       "  <thead>\n",
       "    <tr style=\"text-align: right;\">\n",
       "      <th></th>\n",
       "      <th>employer</th>\n",
       "      <th>regions_count</th>\n",
       "    </tr>\n",
       "  </thead>\n",
       "  <tbody>\n",
       "    <tr>\n",
       "      <th>0</th>\n",
       "      <td>Яндекс</td>\n",
       "      <td>181</td>\n",
       "    </tr>\n",
       "    <tr>\n",
       "      <th>1</th>\n",
       "      <td>Ростелеком</td>\n",
       "      <td>152</td>\n",
       "    </tr>\n",
       "    <tr>\n",
       "      <th>2</th>\n",
       "      <td>Спецремонт</td>\n",
       "      <td>116</td>\n",
       "    </tr>\n",
       "    <tr>\n",
       "      <th>3</th>\n",
       "      <td>Поляков Денис Иванович</td>\n",
       "      <td>88</td>\n",
       "    </tr>\n",
       "    <tr>\n",
       "      <th>4</th>\n",
       "      <td>ООО ЕФИН</td>\n",
       "      <td>71</td>\n",
       "    </tr>\n",
       "    <tr>\n",
       "      <th>...</th>\n",
       "      <td>...</td>\n",
       "      <td>...</td>\n",
       "    </tr>\n",
       "    <tr>\n",
       "      <th>14761</th>\n",
       "      <td>UniSol</td>\n",
       "      <td>1</td>\n",
       "    </tr>\n",
       "    <tr>\n",
       "      <th>14762</th>\n",
       "      <td>UNISTORY LLC</td>\n",
       "      <td>1</td>\n",
       "    </tr>\n",
       "    <tr>\n",
       "      <th>14763</th>\n",
       "      <td>UNIT6</td>\n",
       "      <td>1</td>\n",
       "    </tr>\n",
       "    <tr>\n",
       "      <th>14764</th>\n",
       "      <td>United Distribution</td>\n",
       "      <td>1</td>\n",
       "    </tr>\n",
       "    <tr>\n",
       "      <th>14765</th>\n",
       "      <td>UNITEL LLC</td>\n",
       "      <td>1</td>\n",
       "    </tr>\n",
       "  </tbody>\n",
       "</table>\n",
       "<p>14766 rows × 2 columns</p>\n",
       "</div>"
      ],
      "text/plain": [
       "                     employer  regions_count\n",
       "0                      Яндекс            181\n",
       "1                  Ростелеком            152\n",
       "2                  Спецремонт            116\n",
       "3      Поляков Денис Иванович             88\n",
       "4                   ООО ЕФИН              71\n",
       "...                       ...            ...\n",
       "14761                  UniSol              1\n",
       "14762            UNISTORY LLC              1\n",
       "14763                   UNIT6              1\n",
       "14764     United Distribution              1\n",
       "14765              UNITEL LLC              1\n",
       "\n",
       "[14766 rows x 2 columns]"
      ]
     },
     "execution_count": 24,
     "metadata": {},
     "output_type": "execute_result"
    }
   ],
   "source": [
    "# создаем запрос который выведет для каждого работодателя кол-во регионов, в которых он публикует вакансии. Выведем максимальное значение из получившегося списка.\n",
    "query_areaemployers = f'''select       \n",
    "                            e.name as employer, /* выбираем столбец name с алиасом employer */\n",
    "                            count(distinct(v.area_id)) as regions_count /* выведем кол-во уникальных регионов с алиасом regions_count */\n",
    "                        from\n",
    "                            public.employers e /* из схемы public таблицы employers */\n",
    "                            join public.vacancies v  on e.id = v.employer_id  /* объединямем с таблицей vacancies по id работодателя */\n",
    "        \n",
    "                        group by 1 /* группируем по первому столбцу */\n",
    "                        Order by 2 desc   /* сортируем по второму столбцу в порядке убывания */\n",
    "                    \n",
    "                '''\n",
    "                \n",
    "areaemployers_df = pd.read_sql_query(query_areaemployers,connection)# создаем дата фрейм из данных запроса\n",
    "areaemployers_df # выводим дата фрем"
   ]
  },
  {
   "attachments": {},
   "cell_type": "markdown",
   "metadata": {},
   "source": [
    "### **Задание 5.4**  \n"
   ]
  },
  {
   "cell_type": "code",
   "execution_count": 23,
   "metadata": {},
   "outputs": [
    {
     "name": "stderr",
     "output_type": "stream",
     "text": [
      "C:\\Users\\CheshirSmile\\AppData\\Local\\Temp\\ipykernel_19904\\3361100310.py:10: UserWarning: pandas only supports SQLAlchemy connectable (engine/connection) or database string URI or sqlite3 DBAPI2 connection. Other DBAPI2 objects are not tested. Please consider using SQLAlchemy.\n",
      "  empid_df = pd.read_sql_query(query_empind,connection)# создаем дата фрейм из данных запроса\n"
     ]
    },
    {
     "data": {
      "text/html": [
       "<div>\n",
       "<style scoped>\n",
       "    .dataframe tbody tr th:only-of-type {\n",
       "        vertical-align: middle;\n",
       "    }\n",
       "\n",
       "    .dataframe tbody tr th {\n",
       "        vertical-align: top;\n",
       "    }\n",
       "\n",
       "    .dataframe thead th {\n",
       "        text-align: right;\n",
       "    }\n",
       "</style>\n",
       "<table border=\"1\" class=\"dataframe\">\n",
       "  <thead>\n",
       "    <tr style=\"text-align: right;\">\n",
       "      <th></th>\n",
       "      <th>without_industry</th>\n",
       "    </tr>\n",
       "  </thead>\n",
       "  <tbody>\n",
       "    <tr>\n",
       "      <th>0</th>\n",
       "      <td>8419</td>\n",
       "    </tr>\n",
       "  </tbody>\n",
       "</table>\n",
       "</div>"
      ],
      "text/plain": [
       "   without_industry\n",
       "0              8419"
      ]
     },
     "execution_count": 23,
     "metadata": {},
     "output_type": "execute_result"
    }
   ],
   "source": [
    "# создаем запрос для подсчета кол--ва работодателей, у которых не указана сфера деятельности.\n",
    "query_empind = f'''select  count(e.id) without_industry /* выбираем столбец с кол-вом id с алиасом without_industry */\n",
    "\n",
    "                    from public.employers e /* из схемы public таблицы employers */\n",
    "                        left join public.employers_industries es on es.employer_id = e.id /* объединяем слева с таблицей employers_industries по id работодателя */\n",
    "                    where es.industry_id is null /* учитываем только те строки гд не указана сфера деятельности */\n",
    "                    \n",
    "                '''\n",
    "                \n",
    "empid_df = pd.read_sql_query(query_empind,connection)# создаем дата фрейм из данных запроса\n",
    "empid_df # выводим дата фрем"
   ]
  },
  {
   "attachments": {},
   "cell_type": "markdown",
   "metadata": {},
   "source": [
    "### **Задание 5.5**  \n"
   ]
  },
  {
   "cell_type": "code",
   "execution_count": 22,
   "metadata": {},
   "outputs": [
    {
     "name": "stderr",
     "output_type": "stream",
     "text": [
      "C:\\Users\\CheshirSmile\\AppData\\Local\\Temp\\ipykernel_19904\\175167703.py:14: UserWarning: pandas only supports SQLAlchemy connectable (engine/connection) or database string URI or sqlite3 DBAPI2 connection. Other DBAPI2 objects are not tested. Please consider using SQLAlchemy.\n",
      "  empindcount_df = pd.read_sql_query(query_empindcount,connection)# создаем дата фрейм из данных запроса\n"
     ]
    },
    {
     "data": {
      "text/html": [
       "<div>\n",
       "<style scoped>\n",
       "    .dataframe tbody tr th:only-of-type {\n",
       "        vertical-align: middle;\n",
       "    }\n",
       "\n",
       "    .dataframe tbody tr th {\n",
       "        vertical-align: top;\n",
       "    }\n",
       "\n",
       "    .dataframe thead th {\n",
       "        text-align: right;\n",
       "    }\n",
       "</style>\n",
       "<table border=\"1\" class=\"dataframe\">\n",
       "  <thead>\n",
       "    <tr style=\"text-align: right;\">\n",
       "      <th></th>\n",
       "      <th>employer</th>\n",
       "      <th>industries_count</th>\n",
       "    </tr>\n",
       "  </thead>\n",
       "  <tbody>\n",
       "    <tr>\n",
       "      <th>0</th>\n",
       "      <td>2ГИС</td>\n",
       "      <td>4</td>\n",
       "    </tr>\n",
       "  </tbody>\n",
       "</table>\n",
       "</div>"
      ],
      "text/plain": [
       "  employer  industries_count\n",
       "0     2ГИС                 4"
      ]
     },
     "execution_count": 22,
     "metadata": {},
     "output_type": "execute_result"
    }
   ],
   "source": [
    "# создаем запрос чтобы узнать название компании, находящейся на третьем месте в алфавитном списке (по названию) компаний, у которых указано четыре сферы деятельности. \n",
    "query_empindcount = f'''select  e.name employer, /* выбираем столбец name таблицы employers с алиасом employer */\n",
    "                        count(es.industry_id) industries_count /* выбираем столбец с кол-вом работ сфер деятельности с алиасом industries_count */\n",
    "\n",
    "                    from public.employers e /* из схемы public таблицы employers */\n",
    "                        left join public.employers_industries es on es.employer_id = e.id /* объединяем слева с таблицей employers_industries по id работодателя */\n",
    "                    group by 1 /* группируем по первому столбцу */\n",
    "                    having count(es.industry_id) = 4 /* выводим только тех работодателей у которых указано 4 сферы деятельности */\n",
    "                    order by 1 asc /* упорядывачием по первому столбцу в порядке возрастания */\n",
    "                    offset 2 /* исключаем две первые строке из вывода */\n",
    "                    limit 1 /* выводим только одну строку */\n",
    "                '''\n",
    "                \n",
    "empindcount_df = pd.read_sql_query(query_empindcount,connection)# создаем дата фрейм из данных запроса\n",
    "empindcount_df # выводим дата фрем"
   ]
  },
  {
   "attachments": {},
   "cell_type": "markdown",
   "metadata": {},
   "source": [
    "### **Задание 5.6**  \n",
    "\n"
   ]
  },
  {
   "cell_type": "code",
   "execution_count": 21,
   "metadata": {},
   "outputs": [
    {
     "name": "stderr",
     "output_type": "stream",
     "text": [
      "C:\\Users\\CheshirSmile\\AppData\\Local\\Temp\\ipykernel_19904\\2267809062.py:10: UserWarning: pandas only supports SQLAlchemy connectable (engine/connection) or database string URI or sqlite3 DBAPI2 connection. Other DBAPI2 objects are not tested. Please consider using SQLAlchemy.\n",
      "  empinddev_df = pd.read_sql_query(query_empinddev,connection)# создаем дата фрейм из данных запроса\n"
     ]
    },
    {
     "data": {
      "text/html": [
       "<div>\n",
       "<style scoped>\n",
       "    .dataframe tbody tr th:only-of-type {\n",
       "        vertical-align: middle;\n",
       "    }\n",
       "\n",
       "    .dataframe tbody tr th {\n",
       "        vertical-align: top;\n",
       "    }\n",
       "\n",
       "    .dataframe thead th {\n",
       "        text-align: right;\n",
       "    }\n",
       "</style>\n",
       "<table border=\"1\" class=\"dataframe\">\n",
       "  <thead>\n",
       "    <tr style=\"text-align: right;\">\n",
       "      <th></th>\n",
       "      <th>employers_count</th>\n",
       "    </tr>\n",
       "  </thead>\n",
       "  <tbody>\n",
       "    <tr>\n",
       "      <th>0</th>\n",
       "      <td>3553</td>\n",
       "    </tr>\n",
       "  </tbody>\n",
       "</table>\n",
       "</div>"
      ],
      "text/plain": [
       "   employers_count\n",
       "0             3553"
      ]
     },
     "execution_count": 21,
     "metadata": {},
     "output_type": "execute_result"
    }
   ],
   "source": [
    "# создаем запрос на вывод кол-ва работодателей у которых в качестве сферы деятельности указана \"Разработка программного обеспечения\"\n",
    "query_empinddev = f'''select  count(es.employer_id) employers_count /* выбираем столбец с кол-вом работодателей с алиасом employers_count */\n",
    "\n",
    "                    from public.employers_industries es /* из схемы public таблицы employers_industries */\n",
    "                        join public.industries i on es.industry_id = i.id /* объединяем с таблицей industries по id сферы деятельности */\n",
    "                        \n",
    "                    where i.name like 'Разработка программного обеспечения' /* учитываем только те строке где указано 'Разработка программного обеспечения' */\n",
    "                '''\n",
    "                \n",
    "empinddev_df = pd.read_sql_query(query_empinddev,connection)# создаем дата фрейм из данных запроса\n",
    "empinddev_df # выводим дата фрем"
   ]
  },
  {
   "attachments": {},
   "cell_type": "markdown",
   "metadata": {},
   "source": [
    "### **Задание 5.7**  \n"
   ]
  },
  {
   "cell_type": "code",
   "execution_count": 20,
   "metadata": {},
   "outputs": [
    {
     "name": "stderr",
     "output_type": "stream",
     "text": [
      "C:\\Users\\CheshirSmile\\AppData\\Local\\Temp\\ipykernel_19904\\206033401.py:30: UserWarning: pandas only supports SQLAlchemy connectable (engine/connection) or database string URI or sqlite3 DBAPI2 connection. Other DBAPI2 objects are not tested. Please consider using SQLAlchemy.\n",
      "  yandex_df = pd.read_sql_query(query_yandex,connection)# создаем дата фрейм из данных запроса\n"
     ]
    },
    {
     "data": {
      "text/html": [
       "<div>\n",
       "<style scoped>\n",
       "    .dataframe tbody tr th:only-of-type {\n",
       "        vertical-align: middle;\n",
       "    }\n",
       "\n",
       "    .dataframe tbody tr th {\n",
       "        vertical-align: top;\n",
       "    }\n",
       "\n",
       "    .dataframe thead th {\n",
       "        text-align: right;\n",
       "    }\n",
       "</style>\n",
       "<table border=\"1\" class=\"dataframe\">\n",
       "  <thead>\n",
       "    <tr style=\"text-align: right;\">\n",
       "      <th></th>\n",
       "      <th>city</th>\n",
       "      <th>vacancies_count</th>\n",
       "    </tr>\n",
       "  </thead>\n",
       "  <tbody>\n",
       "    <tr>\n",
       "      <th>0</th>\n",
       "      <td>Омск</td>\n",
       "      <td>21</td>\n",
       "    </tr>\n",
       "    <tr>\n",
       "      <th>1</th>\n",
       "      <td>Челябинск</td>\n",
       "      <td>22</td>\n",
       "    </tr>\n",
       "    <tr>\n",
       "      <th>2</th>\n",
       "      <td>Красноярск</td>\n",
       "      <td>23</td>\n",
       "    </tr>\n",
       "    <tr>\n",
       "      <th>3</th>\n",
       "      <td>Волгоград</td>\n",
       "      <td>24</td>\n",
       "    </tr>\n",
       "    <tr>\n",
       "      <th>4</th>\n",
       "      <td>Пермь</td>\n",
       "      <td>25</td>\n",
       "    </tr>\n",
       "    <tr>\n",
       "      <th>5</th>\n",
       "      <td>Казань</td>\n",
       "      <td>25</td>\n",
       "    </tr>\n",
       "    <tr>\n",
       "      <th>6</th>\n",
       "      <td>Ростов-на-Дону</td>\n",
       "      <td>25</td>\n",
       "    </tr>\n",
       "    <tr>\n",
       "      <th>7</th>\n",
       "      <td>Уфа</td>\n",
       "      <td>26</td>\n",
       "    </tr>\n",
       "    <tr>\n",
       "      <th>8</th>\n",
       "      <td>Самара</td>\n",
       "      <td>26</td>\n",
       "    </tr>\n",
       "    <tr>\n",
       "      <th>9</th>\n",
       "      <td>Краснодар</td>\n",
       "      <td>30</td>\n",
       "    </tr>\n",
       "    <tr>\n",
       "      <th>10</th>\n",
       "      <td>Воронеж</td>\n",
       "      <td>32</td>\n",
       "    </tr>\n",
       "    <tr>\n",
       "      <th>11</th>\n",
       "      <td>Новосибирск</td>\n",
       "      <td>35</td>\n",
       "    </tr>\n",
       "    <tr>\n",
       "      <th>12</th>\n",
       "      <td>Нижний Новгород</td>\n",
       "      <td>36</td>\n",
       "    </tr>\n",
       "    <tr>\n",
       "      <th>13</th>\n",
       "      <td>Екатеринбург</td>\n",
       "      <td>39</td>\n",
       "    </tr>\n",
       "    <tr>\n",
       "      <th>14</th>\n",
       "      <td>Санкт-Петербург</td>\n",
       "      <td>42</td>\n",
       "    </tr>\n",
       "    <tr>\n",
       "      <th>15</th>\n",
       "      <td>Москва</td>\n",
       "      <td>54</td>\n",
       "    </tr>\n",
       "    <tr>\n",
       "      <th>16</th>\n",
       "      <td>Total</td>\n",
       "      <td>485</td>\n",
       "    </tr>\n",
       "  </tbody>\n",
       "</table>\n",
       "</div>"
      ],
      "text/plain": [
       "               city  vacancies_count\n",
       "0              Омск               21\n",
       "1         Челябинск               22\n",
       "2        Красноярск               23\n",
       "3         Волгоград               24\n",
       "4             Пермь               25\n",
       "5            Казань               25\n",
       "6    Ростов-на-Дону               25\n",
       "7               Уфа               26\n",
       "8            Самара               26\n",
       "9         Краснодар               30\n",
       "10          Воронеж               32\n",
       "11      Новосибирск               35\n",
       "12  Нижний Новгород               36\n",
       "13     Екатеринбург               39\n",
       "14  Санкт-Петербург               42\n",
       "15           Москва               54\n",
       "16            Total              485"
      ]
     },
     "execution_count": 20,
     "metadata": {},
     "output_type": "execute_result"
    }
   ],
   "source": [
    "# создаем запрос который выведе кол-во вакансий компании Яндекс в городах-миллиониках по каждому городу и общее кол-во вакансий Яндекса по этим городам\n",
    "query_yandex = f'''select a.name city, /* выбираем столбец name таблицы areas с алиасом city */\n",
    "                        count(v.id) vacancies_count /* выбираем столбец с кол-вом вакансий из таблицы vacancies с алиасом vacancies_count */\n",
    "\n",
    "                    from public.vacancies v /* из схемы public таблицы vacancies */\n",
    "                        left join public.areas a on a.id = v.area_id /* объединяем слева с таблицей areas по id региона */\n",
    "                        left join public.employers e on v.employer_id = e.id /* объединяем слева с таблицей employers по id работодателя */\n",
    "\n",
    "                    where e.name = 'Яндекс' and a.name in ('Москва', 'Санкт-Петербург', 'Новосибирск', 'Екатеринбург', 'Казань', \n",
    "                                       'Нижний Новгород', 'Челябинск', 'Красноярск', 'Самара', 'Уфа', 'Ростов-на-Дону', \n",
    "                                       'Омск', 'Краснодар', 'Воронеж',  'Пермь', 'Волгоград') /* создаем условие выборки: Яндекс и города-миллионики */\n",
    "                         \n",
    "                    group by e.name, a.name /* группируем вначале по столбцу name таблицы employers, затем по столбцу name таблицы areas */\n",
    "                    \n",
    "                    union all /* присоединяем результат подзапроса */\n",
    "                    \n",
    "                    select 'Total', count(v.id) cnt /* создаем значение Total в первом столбце, выбираем столбец с кол-вом вакансий */\n",
    "                    \n",
    "                    from public.vacancies v /* из схемы public таблицы vacancies */\n",
    "                        left join public.areas a on a.id = v.area_id /* объединяем слева с таблицей areas по id региона */\n",
    "                        left join public.employers e on v.employer_id = e.id  /* объединяем слева с таблицей employers по id работодателя */\n",
    "\n",
    "                    where e.name = 'Яндекс' and a.name in ('Москва', 'Санкт-Петербург', 'Новосибирск', 'Екатеринбург', 'Казань', \n",
    "                                       'Нижний Новгород', 'Челябинск', 'Красноярск', 'Самара', 'Уфа', 'Ростов-на-Дону', \n",
    "                                       'Омск', 'Краснодар', 'Воронеж',  'Пермь', 'Волгоград') /* создаем условие выборки: Яндекс и города-миллионики */\n",
    "                                       \n",
    "                    order by vacancies_count /* упорядывачиваем по столбцу vacancies_count в порядке возрастания */\n",
    "                '''\n",
    "                \n",
    "yandex_df = pd.read_sql_query(query_yandex,connection)# создаем дата фрейм из данных запроса\n",
    "yandex_df # выводим дата фрем"
   ]
  },
  {
   "attachments": {},
   "cell_type": "markdown",
   "metadata": {},
   "source": [
    "###  Выводы"
   ]
  },
  {
   "attachments": {},
   "cell_type": "markdown",
   "metadata": {},
   "source": [
    "ТОП-5 работодалей по кол-ву вакансий: Яндекс 1933, Ростелеком 491, Тинькофф\t444, СБЕР 428, Газпром нефть 331. ТОП-5 регионов без вакансий по кол-ву работодателей: Россия 410,Казахстан 207, Московская область 75, Краснодарский край 19, Беларусь 18. В таблице регионов регионы не равновесные, представлены как регионы так и субрегионы.  ТОП-5 работодателей по кол-ву регионов где они публикуются: Яндекс 181, Ростелеком 152, Спецремонт 116, Поляков Денис Иванович 88, ООО ЕФИН 71. Кол-во работодателей, у которых не указана сфера деятельности 8419. У компании 2ГИС указано 4 сферы деятельности. Кол-во работодателей у которых в качестве сферы деятельности указано 'Разработка программного обеспечения' - 3553. Регионы в которых Яндекс выставил вакансии: Омск 21,Челябинск 22, Красноярск 23, Волгоград 24, Пермь 25, Казань 25, Ростов-на-Дону 25, Уфа 26, Самара 26, Краснодар 30, Воронеж 32, Новосибирск 35, Нижний Новгород 36, Екатеринбург 39, Санкт-Петербург 42, Москва 54, Total 485."
   ]
  },
  {
   "attachments": {},
   "cell_type": "markdown",
   "metadata": {},
   "source": [
    "## Предметный анализ"
   ]
  },
  {
   "attachments": {},
   "cell_type": "markdown",
   "metadata": {},
   "source": [
    "### **Задание 6.1**  \n"
   ]
  },
  {
   "cell_type": "code",
   "execution_count": 19,
   "metadata": {},
   "outputs": [
    {
     "name": "stderr",
     "output_type": "stream",
     "text": [
      "C:\\Users\\CheshirSmile\\AppData\\Local\\Temp\\ipykernel_19904\\2803488565.py:11: UserWarning: pandas only supports SQLAlchemy connectable (engine/connection) or database string URI or sqlite3 DBAPI2 connection. Other DBAPI2 objects are not tested. Please consider using SQLAlchemy.\n",
      "  data_df = pd.read_sql_query(query_data,connection) # создаем дата фрейм из данных запроса\n"
     ]
    },
    {
     "data": {
      "text/html": [
       "<div>\n",
       "<style scoped>\n",
       "    .dataframe tbody tr th:only-of-type {\n",
       "        vertical-align: middle;\n",
       "    }\n",
       "\n",
       "    .dataframe tbody tr th {\n",
       "        vertical-align: top;\n",
       "    }\n",
       "\n",
       "    .dataframe thead th {\n",
       "        text-align: right;\n",
       "    }\n",
       "</style>\n",
       "<table border=\"1\" class=\"dataframe\">\n",
       "  <thead>\n",
       "    <tr style=\"text-align: right;\">\n",
       "      <th></th>\n",
       "      <th>cnt_data_vac</th>\n",
       "    </tr>\n",
       "  </thead>\n",
       "  <tbody>\n",
       "    <tr>\n",
       "      <th>0</th>\n",
       "      <td>1771</td>\n",
       "    </tr>\n",
       "  </tbody>\n",
       "</table>\n",
       "</div>"
      ],
      "text/plain": [
       "   cnt_data_vac\n",
       "0          1771"
      ]
     },
     "execution_count": 19,
     "metadata": {},
     "output_type": "execute_result"
    }
   ],
   "source": [
    "# создаем запрос для вывода кол-ва вакансий имеющих отношение к данным\n",
    "query_data = f'''\n",
    "                select count(v.id) cnt_data_vac /* выбираем столбец с кол-вом вакансий */\n",
    "                \n",
    "                from public.vacancies v /* из схемы public таблицы vacancies */\n",
    "                \n",
    "                where v.name ilike '%data%' or v.name ilike '%данн%' /* считаем только строки с указаным условием */\n",
    "\n",
    "            '''\n",
    "            \n",
    "data_df = pd.read_sql_query(query_data,connection) # создаем дата фрейм из данных запроса\n",
    "data_df # выводим дата фрем"
   ]
  },
  {
   "attachments": {},
   "cell_type": "markdown",
   "metadata": {},
   "source": [
    "### **Задание 6.2**  \n"
   ]
  },
  {
   "cell_type": "code",
   "execution_count": 18,
   "metadata": {},
   "outputs": [
    {
     "name": "stderr",
     "output_type": "stream",
     "text": [
      "C:\\Users\\CheshirSmile\\AppData\\Local\\Temp\\ipykernel_19904\\3513981165.py:17: UserWarning: pandas only supports SQLAlchemy connectable (engine/connection) or database string URI or sqlite3 DBAPI2 connection. Other DBAPI2 objects are not tested. Please consider using SQLAlchemy.\n",
      "  dsvac_df = pd.read_sql_query(query_dsvac,connection) # создаем дата фрейм из данных запроса\n"
     ]
    },
    {
     "data": {
      "text/html": [
       "<div>\n",
       "<style scoped>\n",
       "    .dataframe tbody tr th:only-of-type {\n",
       "        vertical-align: middle;\n",
       "    }\n",
       "\n",
       "    .dataframe tbody tr th {\n",
       "        vertical-align: top;\n",
       "    }\n",
       "\n",
       "    .dataframe thead th {\n",
       "        text-align: right;\n",
       "    }\n",
       "</style>\n",
       "<table border=\"1\" class=\"dataframe\">\n",
       "  <thead>\n",
       "    <tr style=\"text-align: right;\">\n",
       "      <th></th>\n",
       "      <th>junior_vacations_count</th>\n",
       "    </tr>\n",
       "  </thead>\n",
       "  <tbody>\n",
       "    <tr>\n",
       "      <th>0</th>\n",
       "      <td>51</td>\n",
       "    </tr>\n",
       "  </tbody>\n",
       "</table>\n",
       "</div>"
      ],
      "text/plain": [
       "   junior_vacations_count\n",
       "0                      51"
      ]
     },
     "execution_count": 18,
     "metadata": {},
     "output_type": "execute_result"
    }
   ],
   "source": [
    "# создаем запрос возвращает колво подходящих вакансий для начинающегося дата-сайентиста\n",
    "query_dsvac = f'''\n",
    "                select count(v.id) junior_vacations_count /* выбираем столбец с кол-вом вакансий с алиасом junior_vacations_count */\n",
    "                \n",
    "                from public.vacancies v /* из схемы public таблицы vacancies */\n",
    "                        \n",
    "                where  (v.name ilike '%data scientist%' \n",
    "                        or v.name ilike '%data science%'\n",
    "                        or v.name ilike '%исследователь данных%' \n",
    "                        or (v.name like '%ML%' and v.name not like '%HTML%') \n",
    "                        or v.name ilike '%machine learning%' \n",
    "                        or v.name ilike '%машинн%обучен%') \n",
    "                        and (v.name ilike '%junior%' or  v.experience = 'Нет опыта' or v.employment = 'Стажировка') /* в название специальности должны присутствовать след.условия; в столбце опыт работы - нет опыта или тип занятости - стажировка */                       \n",
    "                               \n",
    "                '''\n",
    "                \n",
    "dsvac_df = pd.read_sql_query(query_dsvac,connection) # создаем дата фрейм из данных запроса\n",
    "dsvac_df # выводим дата фрем"
   ]
  },
  {
   "attachments": {},
   "cell_type": "markdown",
   "metadata": {},
   "source": [
    "### **Задание 6.3**  \n"
   ]
  },
  {
   "cell_type": "code",
   "execution_count": 17,
   "metadata": {},
   "outputs": [
    {
     "name": "stderr",
     "output_type": "stream",
     "text": [
      "C:\\Users\\CheshirSmile\\AppData\\Local\\Temp\\ipykernel_19904\\3672138987.py:17: UserWarning: pandas only supports SQLAlchemy connectable (engine/connection) or database string URI or sqlite3 DBAPI2 connection. Other DBAPI2 objects are not tested. Please consider using SQLAlchemy.\n",
      "  dsvacsql_df = pd.read_sql_query(query_dsvacsql,connection) # создаем дата фрейм из данных запроса\n"
     ]
    },
    {
     "data": {
      "text/html": [
       "<div>\n",
       "<style scoped>\n",
       "    .dataframe tbody tr th:only-of-type {\n",
       "        vertical-align: middle;\n",
       "    }\n",
       "\n",
       "    .dataframe tbody tr th {\n",
       "        vertical-align: top;\n",
       "    }\n",
       "\n",
       "    .dataframe thead th {\n",
       "        text-align: right;\n",
       "    }\n",
       "</style>\n",
       "<table border=\"1\" class=\"dataframe\">\n",
       "  <thead>\n",
       "    <tr style=\"text-align: right;\">\n",
       "      <th></th>\n",
       "      <th>ds_vacations_sql</th>\n",
       "    </tr>\n",
       "  </thead>\n",
       "  <tbody>\n",
       "    <tr>\n",
       "      <th>0</th>\n",
       "      <td>201</td>\n",
       "    </tr>\n",
       "  </tbody>\n",
       "</table>\n",
       "</div>"
      ],
      "text/plain": [
       "   ds_vacations_sql\n",
       "0               201"
      ]
     },
     "execution_count": 17,
     "metadata": {},
     "output_type": "execute_result"
    }
   ],
   "source": [
    "# создаем запрос возвращающий кол-во вакансий где в качестве ключевого навыка указан SQL или postgres\n",
    "query_dsvacsql = f'''\n",
    "                select count(*) ds_vacations_sql /* выбираем столбец с кол-вом вакансий, с алиасом ds_vacations_sql */\n",
    "                \n",
    "                from public.vacancies v /* из схемы public таблицы vacancies */\n",
    "                \n",
    "                where  (v.name ilike '%data scientist%' \n",
    "                        or v.name ilike '%data science%'\n",
    "                        or v.name ilike '%исследователь данных%' \n",
    "                        or (v.name like '%ML%' and v.name not like '%HTML%') \n",
    "                        or v.name ilike '%machine learning%' \n",
    "                        or v.name ilike '%машинн%обучен%') \n",
    "                        and (v.key_skills like '%postgres%' or v.key_skills like '%SQL%') /* создаем условие выборки вначале из числа вакансий, затем из числа навыков */\n",
    "                                             \n",
    "                '''\n",
    "                \n",
    "dsvacsql_df = pd.read_sql_query(query_dsvacsql,connection) # создаем дата фрейм из данных запроса\n",
    "dsvacsql_df # выводим дата фрем"
   ]
  },
  {
   "attachments": {},
   "cell_type": "markdown",
   "metadata": {},
   "source": [
    "### **Задание 6.4**  \n"
   ]
  },
  {
   "cell_type": "code",
   "execution_count": 16,
   "metadata": {},
   "outputs": [
    {
     "name": "stderr",
     "output_type": "stream",
     "text": [
      "C:\\Users\\CheshirSmile\\AppData\\Local\\Temp\\ipykernel_19904\\3085387992.py:17: UserWarning: pandas only supports SQLAlchemy connectable (engine/connection) or database string URI or sqlite3 DBAPI2 connection. Other DBAPI2 objects are not tested. Please consider using SQLAlchemy.\n",
      "  dsvacpy_df = pd.read_sql_query(query_dsvacpy,connection) # создаем дата фрейм из данных запроса\n"
     ]
    },
    {
     "data": {
      "text/html": [
       "<div>\n",
       "<style scoped>\n",
       "    .dataframe tbody tr th:only-of-type {\n",
       "        vertical-align: middle;\n",
       "    }\n",
       "\n",
       "    .dataframe tbody tr th {\n",
       "        vertical-align: top;\n",
       "    }\n",
       "\n",
       "    .dataframe thead th {\n",
       "        text-align: right;\n",
       "    }\n",
       "</style>\n",
       "<table border=\"1\" class=\"dataframe\">\n",
       "  <thead>\n",
       "    <tr style=\"text-align: right;\">\n",
       "      <th></th>\n",
       "      <th>ds_vacations_python</th>\n",
       "    </tr>\n",
       "  </thead>\n",
       "  <tbody>\n",
       "    <tr>\n",
       "      <th>0</th>\n",
       "      <td>351</td>\n",
       "    </tr>\n",
       "  </tbody>\n",
       "</table>\n",
       "</div>"
      ],
      "text/plain": [
       "   ds_vacations_python\n",
       "0                  351"
      ]
     },
     "execution_count": 16,
     "metadata": {},
     "output_type": "execute_result"
    }
   ],
   "source": [
    "# создаем запрос возвращающий кол-во вакансий DS с ключевым навыком Python\n",
    "query_dsvacpy = f'''\n",
    "                select count(*) ds_vacations_python /* выбираем столбец с кол-вом вакансий, с алиасом ds_vacations_python */\n",
    "                \n",
    "                from public.vacancies v /* из схемы public таблицы vacancies */\n",
    "                \n",
    "                where  (v.name ilike '%data scientist%' \n",
    "                        or v.name ilike '%data science%'\n",
    "                        or v.name ilike '%исследователь данных%' \n",
    "                        or (v.name like '%ML%' and v.name not like '%HTML%') \n",
    "                        or v.name ilike '%machine learning%' \n",
    "                        or v.name ilike '%машинн%обучен%') \n",
    "                        and (v.key_skills ilike '%python%') /* задаем условие выборки: вначале подходящие вакансии, затем наличие в навыках Питона */\n",
    "                                             \n",
    "                '''\n",
    "                \n",
    "dsvacpy_df = pd.read_sql_query(query_dsvacpy,connection) # создаем дата фрейм из данных запроса\n",
    "dsvacpy_df # выводим дата фрем"
   ]
  },
  {
   "attachments": {},
   "cell_type": "markdown",
   "metadata": {},
   "source": [
    "### **Задание 6.5**  \n"
   ]
  },
  {
   "cell_type": "code",
   "execution_count": 15,
   "metadata": {},
   "outputs": [
    {
     "name": "stderr",
     "output_type": "stream",
     "text": [
      "C:\\Users\\CheshirSmile\\AppData\\Local\\Temp\\ipykernel_19904\\856151448.py:17: UserWarning: pandas only supports SQLAlchemy connectable (engine/connection) or database string URI or sqlite3 DBAPI2 connection. Other DBAPI2 objects are not tested. Please consider using SQLAlchemy.\n",
      "  avg_df = pd.read_sql_query(query_avg,connection) # создаем дата фрейм из данных запроса\n"
     ]
    },
    {
     "data": {
      "text/html": [
       "<div>\n",
       "<style scoped>\n",
       "    .dataframe tbody tr th:only-of-type {\n",
       "        vertical-align: middle;\n",
       "    }\n",
       "\n",
       "    .dataframe tbody tr th {\n",
       "        vertical-align: top;\n",
       "    }\n",
       "\n",
       "    .dataframe thead th {\n",
       "        text-align: right;\n",
       "    }\n",
       "</style>\n",
       "<table border=\"1\" class=\"dataframe\">\n",
       "  <thead>\n",
       "    <tr style=\"text-align: right;\">\n",
       "      <th></th>\n",
       "      <th>avg_skills_count_for_ds</th>\n",
       "    </tr>\n",
       "  </thead>\n",
       "  <tbody>\n",
       "    <tr>\n",
       "      <th>0</th>\n",
       "      <td>6.41</td>\n",
       "    </tr>\n",
       "  </tbody>\n",
       "</table>\n",
       "</div>"
      ],
      "text/plain": [
       "   avg_skills_count_for_ds\n",
       "0                     6.41"
      ]
     },
     "execution_count": 15,
     "metadata": {},
     "output_type": "execute_result"
    }
   ],
   "source": [
    "# создаем запрос возвращающий среднее значение ключевых навыков для вакансий DS\n",
    "query_avg = f'''\n",
    "            select\n",
    "                round(avg(length(v.key_skills) - length(replace(v.key_skills, CHR(9), ''))+1), 2) AS avg_skills_count_for_ds /* выбираем столбец в котором из столбца key_skills достается строка с навыками, разделена по табуляции, выведено среднее значение, округляем до второго знака */\n",
    "                \n",
    "                from public.vacancies v /* из схемы public таблицы vacancies */\n",
    "                \n",
    "                where  (v.name ilike '%data scientist%' \n",
    "                        or v.name ilike '%data science%'\n",
    "                        or v.name ilike '%исследователь данных%' \n",
    "                        or (v.name like '%ML%' and v.name not like '%HTML%') \n",
    "                        or v.name ilike '%machine learning%' \n",
    "                        or v.name ilike '%машинн%обучен%') /* задаем условие выборки по вакансиям подходящим под DS */\n",
    "                        \n",
    "            '''\n",
    "            \n",
    "avg_df = pd.read_sql_query(query_avg,connection) # создаем дата фрейм из данных запроса\n",
    "avg_df # выводим дата фрем"
   ]
  },
  {
   "attachments": {},
   "cell_type": "markdown",
   "metadata": {},
   "source": [
    "### **Задание 6.6**  \n",
    "\n"
   ]
  },
  {
   "cell_type": "code",
   "execution_count": 14,
   "metadata": {},
   "outputs": [
    {
     "name": "stderr",
     "output_type": "stream",
     "text": [
      "C:\\Users\\CheshirSmile\\AppData\\Local\\Temp\\ipykernel_19904\\3132538809.py:20: UserWarning: pandas only supports SQLAlchemy connectable (engine/connection) or database string URI or sqlite3 DBAPI2 connection. Other DBAPI2 objects are not tested. Please consider using SQLAlchemy.\n",
      "  salary_ds_df = pd.read_sql_query(query_salary_ds,connection) # создаем дата фрейм из данных запроса\n"
     ]
    },
    {
     "data": {
      "text/html": [
       "<div>\n",
       "<style scoped>\n",
       "    .dataframe tbody tr th:only-of-type {\n",
       "        vertical-align: middle;\n",
       "    }\n",
       "\n",
       "    .dataframe tbody tr th {\n",
       "        vertical-align: top;\n",
       "    }\n",
       "\n",
       "    .dataframe thead th {\n",
       "        text-align: right;\n",
       "    }\n",
       "</style>\n",
       "<table border=\"1\" class=\"dataframe\">\n",
       "  <thead>\n",
       "    <tr style=\"text-align: right;\">\n",
       "      <th></th>\n",
       "      <th>experience</th>\n",
       "      <th>round</th>\n",
       "    </tr>\n",
       "  </thead>\n",
       "  <tbody>\n",
       "    <tr>\n",
       "      <th>0</th>\n",
       "      <td>От 3 до 6 лет</td>\n",
       "      <td>243115.0</td>\n",
       "    </tr>\n",
       "  </tbody>\n",
       "</table>\n",
       "</div>"
      ],
      "text/plain": [
       "      experience     round\n",
       "0  От 3 до 6 лет  243115.0"
      ]
     },
     "execution_count": 14,
     "metadata": {},
     "output_type": "execute_result"
    }
   ],
   "source": [
    "# создаем запрос возвращающий среднюю зарплату для типа работы от 3 до 6 лет\n",
    "query_salary_ds = f'''\n",
    "            select DISTINCT v.experience, /*выбираем столбец с уникальными типами упыта работы */\n",
    "                    round(avg(coalesce((v.salary_from+v.salary_to)/2, salary_from, salary_to)), 0) /*выбираем столбец со средним значение зарплаты, округленное */\n",
    "                \n",
    "                \n",
    "                from public.vacancies v /* из схемы public таблицы vacancies */\n",
    "                \n",
    "                where  (v.name ilike '%data scientist%' \n",
    "                        or v.name ilike '%data science%'\n",
    "                        or v.name ilike '%исследователь данных%' \n",
    "                        or (v.name like '%ML%' and v.name not like '%HTML%') \n",
    "                        or v.name ilike '%machine learning%' \n",
    "                        or v.name ilike '%машинн%обучен%') /* задаем условие выборки по вакансиям подходящим под DS */\n",
    "                \n",
    "                group by 1 /* группируем по первому столбцу */\n",
    "                having v.experience ='От 3 до 6 лет' /* условие вывода только значения для опыта работы от 3 до 6 лет */\n",
    "            '''\n",
    "            \n",
    "salary_ds_df = pd.read_sql_query(query_salary_ds,connection) # создаем дата фрейм из данных запроса\n",
    "salary_ds_df # выводим дата фрем"
   ]
  },
  {
   "attachments": {},
   "cell_type": "markdown",
   "metadata": {},
   "source": [
    "### Выводы"
   ]
  },
  {
   "attachments": {},
   "cell_type": "markdown",
   "metadata": {},
   "source": [
    "Кол-во вакансий имеющих отношение к данным - 1771. Кол-во подходящих вакансий для начинающегося дата-сайентиста 51. Кол-во вакансий где в качестве ключевого навыка указан SQL или postgres - 201. кол-во вакансий DS с ключевым навыком Python - 351. среднее значение ключевых навыков для вакансий DS - 6,41. Средняя зарплата с для типа опыта \"От 3 до 6 лет\" - 243115.0"
   ]
  },
  {
   "attachments": {},
   "cell_type": "markdown",
   "metadata": {},
   "source": [
    "## Итоговые выводы по основной работе"
   ]
  },
  {
   "attachments": {},
   "cell_type": "markdown",
   "metadata": {},
   "source": [
    "В таблице vacancies представленны 49197 вакансий; в столбце salary_from заполнено ~50%, в столбце salary_to заполнено ~ 20%. В таблице employers представлены данные о 23501 работодателей. В таблице areas представлены данные о 1362 регионах. В таблице industries представлены данные о 294 сферах деятельности. Т.о. в схеме public присутвуют данные о 49197 вакансиях от 23501 работодателей по 294 сферам деятельности в 1362 регионах.  \n",
    "\n",
    "В предоставленных данных наибольшее кол-во вакансий представлено по регионам: Москва 5333, Санкт-Петербург 2851, Минск\t2112, Новосибирск 2006, Алматы 1892. На эти пять регионов приходится 1/5 всех вакансий (из 1362 регионов). На Москву ~ 1/12. У 24073 вакансий заполнено хотя бы одно поле зарплатной вилки (верхняя и/или нижняя), что составляет примерно половину всех вакансий. Средее значение нижнего уровня зарплатной вилки 71065.0, среднее значение верхнего уровня зарплатной вилки 110537.0, нужно иметь ввиду, что нижний уровень есть только у половины вакансий, а верхний у около 20% вакансий, следует посмотреть наличие экстремальных значений и их влияние на среднее значение.  Наибольшее кол-во вакансий из многообразия комбинаций типа рабочего графика и типа трудоустройства является удаленная работа при полной занятости - 7802 вакансий. Наименее распространены вакансии с запросом на опыт работы более 6 лет - 1337 (2,7%), наиболее распространенны (более половины всех вакансий) с запросом на опыт работы от 1 года до 3 лет - 26152 (53%). Запрос от 3 до 6 лет занимает вторую позицию и составил 14511(29,5%); без опыта работы - 7197 (14,6%).  \n",
    "\n",
    "ТОП-5 работодалей по кол-ву вакансий: Яндекс 1933, Ростелеком 491, Тинькофф\t444, СБЕР 428, Газпром нефть 331. ТОП-5 регионов без вакансий по кол-ву работодателей: Россия 410,Казахстан 207, Московская область 75, Краснодарский край 19, Беларусь 18. В таблице регионов регионы не равновесные, представлены как регионы так и их субрегионы, что делает их не репрезентативными.  ТОП-5 работодателей по кол-ву регионов где они публикуются: Яндекс 181, Ростелеком 152, Спецремонт 116, Поляков Денис Иванович 88, ООО ЕФИН 71. Кол-во работодателей, у которых не указана сфера деятельности 8419. У компании 2ГИС указано 4 сферы деятельности. Кол-во работодателей у которых в качестве сферы деятельности указано 'Разработка программного обеспечения' - 3553. Регионы в которых Яндекс выставил вакансии: Омск 21,Челябинск 22, Красноярск 23, Волгоград 24, Пермь 25, Казань 25, Ростов-на-Дону 25, Уфа 26, Самара 26, Краснодар 30, Воронеж 32, Новосибирск 35, Нижний Новгород 36, Екатеринбург 39, Санкт-Петербург 42, Москва 54, Total 485.  \n",
    "\n",
    "Кол-во вакансий имеющих отношение к данным - 1771. Кол-во подходящих вакансий для начинающегося дата-сайентиста 51. Кол-во вакансий где в качестве ключевого навыка указан SQL или postgres - 201. кол-во вакансий DS с ключевым навыком Python - 351. среднее значение ключевых навыков для вакансий DS - 6,41. Средняя зарплата с для типа опыта \"От 3 до 6 лет\" - 243115.0\n",
    "\n"
   ]
  },
  {
   "attachments": {},
   "cell_type": "markdown",
   "metadata": {},
   "source": [
    "# Дополнительные исследования\n"
   ]
  },
  {
   "attachments": {},
   "cell_type": "markdown",
   "metadata": {},
   "source": [
    "### Анализ зарплатной вилки"
   ]
  },
  {
   "cell_type": "code",
   "execution_count": 78,
   "metadata": {},
   "outputs": [
    {
     "name": "stderr",
     "output_type": "stream",
     "text": [
      "C:\\Users\\CheshirSmile\\AppData\\Local\\Temp\\ipykernel_8692\\3292870893.py:15: UserWarning: pandas only supports SQLAlchemy connectable (engine/connection) or database string URI or sqlite3 DBAPI2 connection. Other DBAPI2 objects are not tested. Please consider using SQLAlchemy.\n",
      "  zp_up_df = pd.read_sql(query_zp, connection)\n"
     ]
    },
    {
     "data": {
      "text/html": [
       "<div>\n",
       "<style scoped>\n",
       "    .dataframe tbody tr th:only-of-type {\n",
       "        vertical-align: middle;\n",
       "    }\n",
       "\n",
       "    .dataframe tbody tr th {\n",
       "        vertical-align: top;\n",
       "    }\n",
       "\n",
       "    .dataframe thead th {\n",
       "        text-align: right;\n",
       "    }\n",
       "</style>\n",
       "<table border=\"1\" class=\"dataframe\">\n",
       "  <thead>\n",
       "    <tr style=\"text-align: right;\">\n",
       "      <th></th>\n",
       "      <th>not_null_cont</th>\n",
       "      <th>max</th>\n",
       "      <th>min</th>\n",
       "      <th>mode</th>\n",
       "      <th>percentile_cont</th>\n",
       "      <th>avg</th>\n",
       "    </tr>\n",
       "  </thead>\n",
       "  <tbody>\n",
       "    <tr>\n",
       "      <th>0</th>\n",
       "      <td>12690</td>\n",
       "      <td>1000000</td>\n",
       "      <td>60</td>\n",
       "      <td>50000</td>\n",
       "      <td>80000.0</td>\n",
       "      <td>110536.74</td>\n",
       "    </tr>\n",
       "  </tbody>\n",
       "</table>\n",
       "</div>"
      ],
      "text/plain": [
       "   not_null_cont      max  min   mode  percentile_cont        avg\n",
       "0          12690  1000000   60  50000          80000.0  110536.74"
      ]
     },
     "execution_count": 78,
     "metadata": {},
     "output_type": "execute_result"
    }
   ],
   "source": [
    "# количество не нулевых значений, статистика в верхней границы зарплатной вилки\n",
    "query_zp = f'''\n",
    "                select count(salary_to) as \"not_null_cont\", --выводим все значения не null\n",
    "                max(salary_to), -- выводим максимальное значение\n",
    "                min(salary_to),  -- выводим минимальное значение\n",
    "                mode() WITHIN GROUP (ORDER BY salary_to), --выводим моду\n",
    "                percentile_cont(0.5) WITHIN GROUP (ORDER BY salary_to), --выводим медиану\n",
    "                ROUND(AVG(salary_to),2) avg -- выводим среднее значение\n",
    "                \n",
    "                from public.vacancies --из схемы public таблицы vacancies\n",
    "                \n",
    "                where salary_to is not null --условие вывода не нулевых значений\n",
    "                \n",
    "\n",
    "'''\n",
    "zp_up_df = pd.read_sql(query_zp, connection)# создаем дата фрейм\n",
    "zp_up_df#  возвращаем дата фрейм"
   ]
  },
  {
   "cell_type": "code",
   "execution_count": 63,
   "metadata": {},
   "outputs": [
    {
     "name": "stderr",
     "output_type": "stream",
     "text": [
      "C:\\Users\\CheshirSmile\\AppData\\Local\\Temp\\ipykernel_8692\\725735332.py:23: UserWarning: pandas only supports SQLAlchemy connectable (engine/connection) or database string URI or sqlite3 DBAPI2 connection. Other DBAPI2 objects are not tested. Please consider using SQLAlchemy.\n",
      "  zp_up_df = pd.read_sql(query_zp, connection)\n"
     ]
    },
    {
     "data": {
      "text/html": [
       "<div>\n",
       "<style scoped>\n",
       "    .dataframe tbody tr th:only-of-type {\n",
       "        vertical-align: middle;\n",
       "    }\n",
       "\n",
       "    .dataframe tbody tr th {\n",
       "        vertical-align: top;\n",
       "    }\n",
       "\n",
       "    .dataframe thead th {\n",
       "        text-align: right;\n",
       "    }\n",
       "</style>\n",
       "<table border=\"1\" class=\"dataframe\">\n",
       "  <thead>\n",
       "    <tr style=\"text-align: right;\">\n",
       "      <th></th>\n",
       "      <th>title</th>\n",
       "      <th>count</th>\n",
       "    </tr>\n",
       "  </thead>\n",
       "  <tbody>\n",
       "    <tr>\n",
       "      <th>0</th>\n",
       "      <td>salary_to=1m</td>\n",
       "      <td>3</td>\n",
       "    </tr>\n",
       "    <tr>\n",
       "      <th>1</th>\n",
       "      <td>salary_to&lt;1000</td>\n",
       "      <td>4</td>\n",
       "    </tr>\n",
       "    <tr>\n",
       "      <th>2</th>\n",
       "      <td>50000&gt;salary_to&lt;110000</td>\n",
       "      <td>4204</td>\n",
       "    </tr>\n",
       "  </tbody>\n",
       "</table>\n",
       "</div>"
      ],
      "text/plain": [
       "                    title  count\n",
       "0            salary_to=1m      3\n",
       "1          salary_to<1000      4\n",
       "2  50000>salary_to<110000   4204"
      ]
     },
     "execution_count": 63,
     "metadata": {},
     "output_type": "execute_result"
    }
   ],
   "source": [
    "# смотрим количественное выражение различных значений\n",
    "query_zp = f'''\n",
    "                select 'salary_to=1m' title, count(salary_to) --выводим кол-во максимальных значений\n",
    "                from public.vacancies --из схемы public таблицы vacancies\n",
    "                where salary_to = 1000000 --условие вывода только максимальных значений\n",
    "                \n",
    "                union all -- присоединяем \n",
    "                \n",
    "                select 'salary_to<1000', count(salary_to) --выводим крайне малые значения\n",
    "                from public.vacancies --из схемы public таблицы vacancies\n",
    "                where salary_to < 1000 --условие вывода крайне малые значения\n",
    "                \n",
    "                union all -- присоединяем \n",
    "                \n",
    "                select '50000>salary_to<110000', count(salary_to) --выводим кол-во значений между модой и средней\n",
    "                from public.vacancies --из схемы public таблицы vacancies\n",
    "                where (salary_to < 110000) and (salary_to > 50000) -- условие вывода\n",
    "                \n",
    "                order by 2 asc -- сортируем по кол-ву в порядке возрастания\n",
    "                \n",
    "                \n",
    "\n",
    "'''\n",
    "zp_up_df = pd.read_sql(query_zp, connection)# создаем дата фрейм\n",
    "zp_up_df#  возвращаем дата фрейм"
   ]
  },
  {
   "cell_type": "code",
   "execution_count": 76,
   "metadata": {},
   "outputs": [
    {
     "name": "stderr",
     "output_type": "stream",
     "text": [
      "C:\\Users\\CheshirSmile\\AppData\\Local\\Temp\\ipykernel_8692\\322071925.py:10: UserWarning: pandas only supports SQLAlchemy connectable (engine/connection) or database string URI or sqlite3 DBAPI2 connection. Other DBAPI2 objects are not tested. Please consider using SQLAlchemy.\n",
      "  zp_up_df = pd.read_sql(query_zp, connection)\n"
     ]
    },
    {
     "data": {
      "text/html": [
       "<div>\n",
       "<style scoped>\n",
       "    .dataframe tbody tr th:only-of-type {\n",
       "        vertical-align: middle;\n",
       "    }\n",
       "\n",
       "    .dataframe tbody tr th {\n",
       "        vertical-align: top;\n",
       "    }\n",
       "\n",
       "    .dataframe thead th {\n",
       "        text-align: right;\n",
       "    }\n",
       "</style>\n",
       "<table border=\"1\" class=\"dataframe\">\n",
       "  <thead>\n",
       "    <tr style=\"text-align: right;\">\n",
       "      <th></th>\n",
       "      <th>id</th>\n",
       "      <th>name</th>\n",
       "      <th>key_skills</th>\n",
       "      <th>schedule</th>\n",
       "      <th>experience</th>\n",
       "      <th>employment</th>\n",
       "      <th>salary_from</th>\n",
       "      <th>salary_to</th>\n",
       "      <th>area_id</th>\n",
       "      <th>employer_id</th>\n",
       "    </tr>\n",
       "  </thead>\n",
       "  <tbody>\n",
       "    <tr>\n",
       "      <th>0</th>\n",
       "      <td>53692636</td>\n",
       "      <td>Брокер по продаже апартаментов</td>\n",
       "      <td>Ведение переговоров\\tТелефонные переговоры\\tРа...</td>\n",
       "      <td>Полный день</td>\n",
       "      <td>От 1 года до 3 лет</td>\n",
       "      <td>Полная занятость</td>\n",
       "      <td>500000.0</td>\n",
       "      <td>1000000</td>\n",
       "      <td>237</td>\n",
       "      <td>1625845</td>\n",
       "    </tr>\n",
       "    <tr>\n",
       "      <th>1</th>\n",
       "      <td>50779568</td>\n",
       "      <td>СТО/Директор по разработке</td>\n",
       "      <td>Laravel\\tУправление проектами\\tPHP\\tVue.js\\tPo...</td>\n",
       "      <td>Полный день</td>\n",
       "      <td>От 3 до 6 лет</td>\n",
       "      <td>Полная занятость</td>\n",
       "      <td>500000.0</td>\n",
       "      <td>1000000</td>\n",
       "      <td>1</td>\n",
       "      <td>988480</td>\n",
       "    </tr>\n",
       "    <tr>\n",
       "      <th>2</th>\n",
       "      <td>66097724</td>\n",
       "      <td>QA Automation Engineer</td>\n",
       "      <td>Тестирование\\tHTML\\tJavaScript\\tGit\\tТестирова...</td>\n",
       "      <td>Полный день</td>\n",
       "      <td>От 1 года до 3 лет</td>\n",
       "      <td>Полная занятость</td>\n",
       "      <td>400000.0</td>\n",
       "      <td>1000000</td>\n",
       "      <td>160</td>\n",
       "      <td>703174</td>\n",
       "    </tr>\n",
       "    <tr>\n",
       "      <th>3</th>\n",
       "      <td>55502745</td>\n",
       "      <td>Консультант 1С - бухгалтерия, зарплата</td>\n",
       "      <td>1С: Предприятие 8\\t1С программирование\\t1С: За...</td>\n",
       "      <td>Полный день</td>\n",
       "      <td>Более 6 лет</td>\n",
       "      <td>Частичная занятость</td>\n",
       "      <td>750.0</td>\n",
       "      <td>850</td>\n",
       "      <td>102</td>\n",
       "      <td>3074036</td>\n",
       "    </tr>\n",
       "    <tr>\n",
       "      <th>4</th>\n",
       "      <td>55518035</td>\n",
       "      <td>Computer Vision Engineer</td>\n",
       "      <td>Tensorflow\\tOpenCV\\tMachine Learning\\tPython\\t...</td>\n",
       "      <td>Полный день</td>\n",
       "      <td>От 3 до 6 лет</td>\n",
       "      <td>Полная занятость</td>\n",
       "      <td>250.0</td>\n",
       "      <td>350</td>\n",
       "      <td>1</td>\n",
       "      <td>4484124</td>\n",
       "    </tr>\n",
       "    <tr>\n",
       "      <th>5</th>\n",
       "      <td>55385660</td>\n",
       "      <td>Программист</td>\n",
       "      <td>Sass\\tjQuery\\tAjax\\tJavaScript\\tHTML</td>\n",
       "      <td>Полный день</td>\n",
       "      <td>От 1 года до 3 лет</td>\n",
       "      <td>Полная занятость</td>\n",
       "      <td>NaN</td>\n",
       "      <td>75</td>\n",
       "      <td>23</td>\n",
       "      <td>1729613</td>\n",
       "    </tr>\n",
       "    <tr>\n",
       "      <th>6</th>\n",
       "      <td>55592532</td>\n",
       "      <td>Database Administrator (Администратор баз данных)</td>\n",
       "      <td>Работа с базами данных\\tPostgreSQL\\tУдаленная ...</td>\n",
       "      <td>Удаленная работа</td>\n",
       "      <td>От 1 года до 3 лет</td>\n",
       "      <td>Полная занятость</td>\n",
       "      <td>60.0</td>\n",
       "      <td>60</td>\n",
       "      <td>83</td>\n",
       "      <td>1654478</td>\n",
       "    </tr>\n",
       "  </tbody>\n",
       "</table>\n",
       "</div>"
      ],
      "text/plain": [
       "         id                                               name  \\\n",
       "0  53692636                     Брокер по продаже апартаментов   \n",
       "1  50779568                         СТО/Директор по разработке   \n",
       "2  66097724                             QA Automation Engineer   \n",
       "3  55502745             Консультант 1С - бухгалтерия, зарплата   \n",
       "4  55518035                           Computer Vision Engineer   \n",
       "5  55385660                                        Программист   \n",
       "6  55592532  Database Administrator (Администратор баз данных)   \n",
       "\n",
       "                                          key_skills          schedule  \\\n",
       "0  Ведение переговоров\\tТелефонные переговоры\\tРа...       Полный день   \n",
       "1  Laravel\\tУправление проектами\\tPHP\\tVue.js\\tPo...       Полный день   \n",
       "2  Тестирование\\tHTML\\tJavaScript\\tGit\\tТестирова...       Полный день   \n",
       "3  1С: Предприятие 8\\t1С программирование\\t1С: За...       Полный день   \n",
       "4  Tensorflow\\tOpenCV\\tMachine Learning\\tPython\\t...       Полный день   \n",
       "5               Sass\\tjQuery\\tAjax\\tJavaScript\\tHTML       Полный день   \n",
       "6  Работа с базами данных\\tPostgreSQL\\tУдаленная ...  Удаленная работа   \n",
       "\n",
       "           experience           employment  salary_from  salary_to  area_id  \\\n",
       "0  От 1 года до 3 лет     Полная занятость     500000.0    1000000      237   \n",
       "1       От 3 до 6 лет     Полная занятость     500000.0    1000000        1   \n",
       "2  От 1 года до 3 лет     Полная занятость     400000.0    1000000      160   \n",
       "3         Более 6 лет  Частичная занятость        750.0        850      102   \n",
       "4       От 3 до 6 лет     Полная занятость        250.0        350        1   \n",
       "5  От 1 года до 3 лет     Полная занятость          NaN         75       23   \n",
       "6  От 1 года до 3 лет     Полная занятость         60.0         60       83   \n",
       "\n",
       "   employer_id  \n",
       "0      1625845  \n",
       "1       988480  \n",
       "2       703174  \n",
       "3      3074036  \n",
       "4      4484124  \n",
       "5      1729613  \n",
       "6      1654478  "
      ]
     },
     "execution_count": 76,
     "metadata": {},
     "output_type": "execute_result"
    }
   ],
   "source": [
    "# смотрим строки с экстремальными значениями\n",
    "query_zp = f'''\n",
    "                select * --выбрать все строки\n",
    "                from public.vacancies --из схемы public таблицы vacancies\n",
    "                where (salary_to = 1000000) or  (salary_to < 1000)    -- диапазон вывода         \n",
    "                \n",
    "                order by salary_to desc --упорядывачиваем\n",
    "                \n",
    "\n",
    "'''\n",
    "zp_up_df = pd.read_sql(query_zp, connection)# создаем дата фрейм\n",
    "zp_up_df#  возвращаем дата фрейм"
   ]
  },
  {
   "cell_type": "code",
   "execution_count": 66,
   "metadata": {},
   "outputs": [
    {
     "name": "stderr",
     "output_type": "stream",
     "text": [
      "C:\\Users\\CheshirSmile\\AppData\\Local\\Temp\\ipykernel_8692\\2999560027.py:9: UserWarning: pandas only supports SQLAlchemy connectable (engine/connection) or database string URI or sqlite3 DBAPI2 connection. Other DBAPI2 objects are not tested. Please consider using SQLAlchemy.\n",
      "  zp_up_df = pd.read_sql(query_zp, connection)\n"
     ]
    },
    {
     "data": {
      "text/html": [
       "<div>\n",
       "<style scoped>\n",
       "    .dataframe tbody tr th:only-of-type {\n",
       "        vertical-align: middle;\n",
       "    }\n",
       "\n",
       "    .dataframe tbody tr th {\n",
       "        vertical-align: top;\n",
       "    }\n",
       "\n",
       "    .dataframe thead th {\n",
       "        text-align: right;\n",
       "    }\n",
       "</style>\n",
       "<table border=\"1\" class=\"dataframe\">\n",
       "  <thead>\n",
       "    <tr style=\"text-align: right;\">\n",
       "      <th></th>\n",
       "      <th>not_null_cont</th>\n",
       "      <th>max</th>\n",
       "      <th>min</th>\n",
       "      <th>mode</th>\n",
       "      <th>percentile_cont</th>\n",
       "      <th>avg</th>\n",
       "    </tr>\n",
       "  </thead>\n",
       "  <tbody>\n",
       "    <tr>\n",
       "      <th>0</th>\n",
       "      <td>10102</td>\n",
       "      <td>574000</td>\n",
       "      <td>30</td>\n",
       "      <td>40000</td>\n",
       "      <td>50000.0</td>\n",
       "      <td>70483.58</td>\n",
       "    </tr>\n",
       "  </tbody>\n",
       "</table>\n",
       "</div>"
      ],
      "text/plain": [
       "   not_null_cont     max  min   mode  percentile_cont       avg\n",
       "0          10102  574000   30  40000          50000.0  70483.58"
      ]
     },
     "execution_count": 66,
     "metadata": {},
     "output_type": "execute_result"
    }
   ],
   "source": [
    "# количество не нулевых значений, статистика в нижней границы зарплатной вилки\n",
    "query_zp = f'''\n",
    "                select count(salary_from) \"not_null_cont\", --выводим все значения не null\n",
    "                max(salary_from), -- выводим максимальное значение\n",
    "                min(salary_from), -- выводим минимальное значение\n",
    "                mode() WITHIN GROUP (ORDER BY salary_from), --выводим моду\n",
    "                percentile_cont(0.5) WITHIN GROUP (ORDER BY salary_from), --выводим медиану\n",
    "                ROUND(AVG(salary_from),2) avg -- выводим среднее значение\n",
    "                \n",
    "                from public.vacancies --из схемы public таблицы vacancies\n",
    "                \n",
    "                where salary_to is not null --условие вывода не нулевых значений\n",
    "                \n",
    "\n",
    "'''\n",
    "zp_up_df = pd.read_sql(query_zp, connection)# создаем дата фрейм\n",
    "zp_up_df#  возвращаем дата фрейм"
   ]
  },
  {
   "cell_type": "code",
   "execution_count": 70,
   "metadata": {},
   "outputs": [
    {
     "name": "stderr",
     "output_type": "stream",
     "text": [
      "C:\\Users\\CheshirSmile\\AppData\\Local\\Temp\\ipykernel_8692\\2405318503.py:22: UserWarning: pandas only supports SQLAlchemy connectable (engine/connection) or database string URI or sqlite3 DBAPI2 connection. Other DBAPI2 objects are not tested. Please consider using SQLAlchemy.\n",
      "  zp_up_df = pd.read_sql(query_zp, connection)\n"
     ]
    },
    {
     "data": {
      "text/html": [
       "<div>\n",
       "<style scoped>\n",
       "    .dataframe tbody tr th:only-of-type {\n",
       "        vertical-align: middle;\n",
       "    }\n",
       "\n",
       "    .dataframe tbody tr th {\n",
       "        vertical-align: top;\n",
       "    }\n",
       "\n",
       "    .dataframe thead th {\n",
       "        text-align: right;\n",
       "    }\n",
       "</style>\n",
       "<table border=\"1\" class=\"dataframe\">\n",
       "  <thead>\n",
       "    <tr style=\"text-align: right;\">\n",
       "      <th></th>\n",
       "      <th>title</th>\n",
       "      <th>count</th>\n",
       "    </tr>\n",
       "  </thead>\n",
       "  <tbody>\n",
       "    <tr>\n",
       "      <th>0</th>\n",
       "      <td>salary_from=574k</td>\n",
       "      <td>2</td>\n",
       "    </tr>\n",
       "    <tr>\n",
       "      <th>1</th>\n",
       "      <td>salary_from&lt;1000</td>\n",
       "      <td>5</td>\n",
       "    </tr>\n",
       "    <tr>\n",
       "      <th>2</th>\n",
       "      <td>40000&gt;salary_from&lt;70000</td>\n",
       "      <td>5267</td>\n",
       "    </tr>\n",
       "  </tbody>\n",
       "</table>\n",
       "</div>"
      ],
      "text/plain": [
       "                     title  count\n",
       "0         salary_from=574k      2\n",
       "1         salary_from<1000      5\n",
       "2  40000>salary_from<70000   5267"
      ]
     },
     "execution_count": 70,
     "metadata": {},
     "output_type": "execute_result"
    }
   ],
   "source": [
    "# количество не нулевых значений, статистика в нижней границы зарплатной вилки\n",
    "query_zp = f'''\n",
    "                select 'salary_from=574k' title, count(salary_from)\n",
    "                from public.vacancies --из схемы public таблицы vacancies\n",
    "                where salary_from=574000--условие вывода только максимальных значений\n",
    "                \n",
    "                union all --присоединяем\n",
    "                \n",
    "                select 'salary_from<1000', count(salary_from) --выводим крайне малые значения\n",
    "                from public.vacancies --из схемы public таблицы vacancies\n",
    "                where salary_from=1000 -- условие вывода крайне малых значений\n",
    "                \n",
    "                union all --присоединяем\n",
    "                \n",
    "                select '40000>salary_from<70000', count(salary_from) --выводим кол-во значений между модой и средней\n",
    "                from public.vacancies --из схемы public таблицы vacancies\n",
    "                where (salary_from < 70000) and (salary_from > 40000)  -- условие вывода\n",
    "                \n",
    "                order by 2 asc -- сортируем по кол-ву в порядке возрастания\n",
    "\n",
    "'''\n",
    "zp_up_df = pd.read_sql(query_zp, connection)# создаем дата фрейм\n",
    "zp_up_df#  возвращаем дата фрейм"
   ]
  },
  {
   "cell_type": "code",
   "execution_count": 77,
   "metadata": {},
   "outputs": [
    {
     "name": "stderr",
     "output_type": "stream",
     "text": [
      "C:\\Users\\CheshirSmile\\AppData\\Local\\Temp\\ipykernel_8692\\4133429647.py:9: UserWarning: pandas only supports SQLAlchemy connectable (engine/connection) or database string URI or sqlite3 DBAPI2 connection. Other DBAPI2 objects are not tested. Please consider using SQLAlchemy.\n",
      "  zp_up_df = pd.read_sql(query_zp, connection)\n"
     ]
    },
    {
     "data": {
      "text/html": [
       "<div>\n",
       "<style scoped>\n",
       "    .dataframe tbody tr th:only-of-type {\n",
       "        vertical-align: middle;\n",
       "    }\n",
       "\n",
       "    .dataframe tbody tr th {\n",
       "        vertical-align: top;\n",
       "    }\n",
       "\n",
       "    .dataframe thead th {\n",
       "        text-align: right;\n",
       "    }\n",
       "</style>\n",
       "<table border=\"1\" class=\"dataframe\">\n",
       "  <thead>\n",
       "    <tr style=\"text-align: right;\">\n",
       "      <th></th>\n",
       "      <th>id</th>\n",
       "      <th>name</th>\n",
       "      <th>key_skills</th>\n",
       "      <th>schedule</th>\n",
       "      <th>experience</th>\n",
       "      <th>employment</th>\n",
       "      <th>salary_from</th>\n",
       "      <th>salary_to</th>\n",
       "      <th>area_id</th>\n",
       "      <th>employer_id</th>\n",
       "    </tr>\n",
       "  </thead>\n",
       "  <tbody>\n",
       "    <tr>\n",
       "      <th>0</th>\n",
       "      <td>55487195</td>\n",
       "      <td>FullStack Developer in Unicorn Company</td>\n",
       "      <td>Java\\tReact\\tKotlin\\tSpring Boot\\tAWS\\tGCP\\tMo...</td>\n",
       "      <td>Полный день</td>\n",
       "      <td>От 3 до 6 лет</td>\n",
       "      <td>Полная занятость</td>\n",
       "      <td>574000</td>\n",
       "      <td>860000.0</td>\n",
       "      <td>160</td>\n",
       "      <td>5973965</td>\n",
       "    </tr>\n",
       "    <tr>\n",
       "      <th>1</th>\n",
       "      <td>55487189</td>\n",
       "      <td>Frontend Developer in Unicorn Company</td>\n",
       "      <td>Node.js\\tJavaScript\\tMongoDB\\tAngular\\tSpring ...</td>\n",
       "      <td>Полный день</td>\n",
       "      <td>От 3 до 6 лет</td>\n",
       "      <td>Полная занятость</td>\n",
       "      <td>574000</td>\n",
       "      <td>860000.0</td>\n",
       "      <td>160</td>\n",
       "      <td>5973965</td>\n",
       "    </tr>\n",
       "    <tr>\n",
       "      <th>2</th>\n",
       "      <td>55230629</td>\n",
       "      <td>PHP-программист (WordPress)</td>\n",
       "      <td>JavaScript\\tHTML5\\tPHP\\tCMS Wordpress\\tjQuery</td>\n",
       "      <td>Полный день</td>\n",
       "      <td>От 1 года до 3 лет</td>\n",
       "      <td>Полная занятость</td>\n",
       "      <td>900</td>\n",
       "      <td>NaN</td>\n",
       "      <td>2758</td>\n",
       "      <td>6138766</td>\n",
       "    </tr>\n",
       "    <tr>\n",
       "      <th>3</th>\n",
       "      <td>55069564</td>\n",
       "      <td>Контент-менеджер</td>\n",
       "      <td>Adobe Photoshop\\tНаполнение контентом\\tГрамотн...</td>\n",
       "      <td>Удаленная работа</td>\n",
       "      <td>От 1 года до 3 лет</td>\n",
       "      <td>Полная занятость</td>\n",
       "      <td>900</td>\n",
       "      <td>NaN</td>\n",
       "      <td>1007</td>\n",
       "      <td>2848813</td>\n",
       "    </tr>\n",
       "    <tr>\n",
       "      <th>4</th>\n",
       "      <td>55502745</td>\n",
       "      <td>Консультант 1С - бухгалтерия, зарплата</td>\n",
       "      <td>1С: Предприятие 8\\t1С программирование\\t1С: За...</td>\n",
       "      <td>Полный день</td>\n",
       "      <td>Более 6 лет</td>\n",
       "      <td>Частичная занятость</td>\n",
       "      <td>750</td>\n",
       "      <td>850.0</td>\n",
       "      <td>102</td>\n",
       "      <td>3074036</td>\n",
       "    </tr>\n",
       "    <tr>\n",
       "      <th>5</th>\n",
       "      <td>55518035</td>\n",
       "      <td>Computer Vision Engineer</td>\n",
       "      <td>Tensorflow\\tOpenCV\\tMachine Learning\\tPython\\t...</td>\n",
       "      <td>Полный день</td>\n",
       "      <td>От 3 до 6 лет</td>\n",
       "      <td>Полная занятость</td>\n",
       "      <td>250</td>\n",
       "      <td>350.0</td>\n",
       "      <td>1</td>\n",
       "      <td>4484124</td>\n",
       "    </tr>\n",
       "    <tr>\n",
       "      <th>6</th>\n",
       "      <td>55851928</td>\n",
       "      <td>Программист Python</td>\n",
       "      <td>None</td>\n",
       "      <td>Полный день</td>\n",
       "      <td>От 1 года до 3 лет</td>\n",
       "      <td>Полная занятость</td>\n",
       "      <td>105</td>\n",
       "      <td>215000.0</td>\n",
       "      <td>4</td>\n",
       "      <td>67611</td>\n",
       "    </tr>\n",
       "    <tr>\n",
       "      <th>7</th>\n",
       "      <td>51504693</td>\n",
       "      <td>Системный администратор</td>\n",
       "      <td>TCP/IP\\tАдминистрирование сетевого оборудовани...</td>\n",
       "      <td>Полный день</td>\n",
       "      <td>Нет опыта</td>\n",
       "      <td>Полная занятость</td>\n",
       "      <td>80</td>\n",
       "      <td>150000.0</td>\n",
       "      <td>2077</td>\n",
       "      <td>44936</td>\n",
       "    </tr>\n",
       "    <tr>\n",
       "      <th>8</th>\n",
       "      <td>53203579</td>\n",
       "      <td>Аналитик 1С</td>\n",
       "      <td>None</td>\n",
       "      <td>Полный день</td>\n",
       "      <td>От 1 года до 3 лет</td>\n",
       "      <td>Полная занятость</td>\n",
       "      <td>80</td>\n",
       "      <td>120000.0</td>\n",
       "      <td>99</td>\n",
       "      <td>360319</td>\n",
       "    </tr>\n",
       "    <tr>\n",
       "      <th>9</th>\n",
       "      <td>51951335</td>\n",
       "      <td>Системный администратор</td>\n",
       "      <td>None</td>\n",
       "      <td>Полный день</td>\n",
       "      <td>От 3 до 6 лет</td>\n",
       "      <td>Полная занятость</td>\n",
       "      <td>70</td>\n",
       "      <td>NaN</td>\n",
       "      <td>78</td>\n",
       "      <td>43906</td>\n",
       "    </tr>\n",
       "    <tr>\n",
       "      <th>10</th>\n",
       "      <td>54909932</td>\n",
       "      <td>Middle+/Senior C# разработчик</td>\n",
       "      <td>Git\\tPostgreSQL\\tООП\\tAWS\\tAWS Lambda\\tElastic...</td>\n",
       "      <td>Полный день</td>\n",
       "      <td>От 3 до 6 лет</td>\n",
       "      <td>Полная занятость</td>\n",
       "      <td>65</td>\n",
       "      <td>NaN</td>\n",
       "      <td>159</td>\n",
       "      <td>4823409</td>\n",
       "    </tr>\n",
       "    <tr>\n",
       "      <th>11</th>\n",
       "      <td>55592532</td>\n",
       "      <td>Database Administrator (Администратор баз данных)</td>\n",
       "      <td>Работа с базами данных\\tPostgreSQL\\tУдаленная ...</td>\n",
       "      <td>Удаленная работа</td>\n",
       "      <td>От 1 года до 3 лет</td>\n",
       "      <td>Полная занятость</td>\n",
       "      <td>60</td>\n",
       "      <td>60.0</td>\n",
       "      <td>83</td>\n",
       "      <td>1654478</td>\n",
       "    </tr>\n",
       "    <tr>\n",
       "      <th>12</th>\n",
       "      <td>55884372</td>\n",
       "      <td>Инженер по обслуживанию ресторанов Макдоналдс ...</td>\n",
       "      <td>Настройка ПО\\tНастройка ПК\\tРемонт ПК\\tТехниче...</td>\n",
       "      <td>Гибкий график</td>\n",
       "      <td>От 1 года до 3 лет</td>\n",
       "      <td>Полная занятость</td>\n",
       "      <td>42</td>\n",
       "      <td>50000.0</td>\n",
       "      <td>26</td>\n",
       "      <td>84969</td>\n",
       "    </tr>\n",
       "    <tr>\n",
       "      <th>13</th>\n",
       "      <td>66177314</td>\n",
       "      <td>Инженер по информационной безопасности</td>\n",
       "      <td>Информационная безопасность\\tВнедрение систем ...</td>\n",
       "      <td>Полный день</td>\n",
       "      <td>Нет опыта</td>\n",
       "      <td>Полная занятость</td>\n",
       "      <td>35</td>\n",
       "      <td>NaN</td>\n",
       "      <td>26</td>\n",
       "      <td>643860</td>\n",
       "    </tr>\n",
       "    <tr>\n",
       "      <th>14</th>\n",
       "      <td>66073664</td>\n",
       "      <td>Помощник IT-специалиста</td>\n",
       "      <td>Adobe Photoshop\\tHTML\\tWeb\\tОпрятный внешний в...</td>\n",
       "      <td>Полный день</td>\n",
       "      <td>От 1 года до 3 лет</td>\n",
       "      <td>Полная занятость</td>\n",
       "      <td>30</td>\n",
       "      <td>NaN</td>\n",
       "      <td>237</td>\n",
       "      <td>3046483</td>\n",
       "    </tr>\n",
       "    <tr>\n",
       "      <th>15</th>\n",
       "      <td>66145376</td>\n",
       "      <td>Помощник IT-специалиста</td>\n",
       "      <td>Adobe Photoshop\\tHTML\\tWeb\\tОпрятный внешний в...</td>\n",
       "      <td>Полный день</td>\n",
       "      <td>Нет опыта</td>\n",
       "      <td>Полная занятость</td>\n",
       "      <td>30</td>\n",
       "      <td>NaN</td>\n",
       "      <td>237</td>\n",
       "      <td>3046483</td>\n",
       "    </tr>\n",
       "    <tr>\n",
       "      <th>16</th>\n",
       "      <td>54816956</td>\n",
       "      <td>Системный администратор</td>\n",
       "      <td>Настройка ПО\\tНастройка серверов\\tАдминистриро...</td>\n",
       "      <td>Полный день</td>\n",
       "      <td>От 1 года до 3 лет</td>\n",
       "      <td>Полная занятость</td>\n",
       "      <td>30</td>\n",
       "      <td>50000.0</td>\n",
       "      <td>104</td>\n",
       "      <td>792907</td>\n",
       "    </tr>\n",
       "  </tbody>\n",
       "</table>\n",
       "</div>"
      ],
      "text/plain": [
       "          id                                               name  \\\n",
       "0   55487195             FullStack Developer in Unicorn Company   \n",
       "1   55487189              Frontend Developer in Unicorn Company   \n",
       "2   55230629                        PHP-программист (WordPress)   \n",
       "3   55069564                                   Контент-менеджер   \n",
       "4   55502745             Консультант 1С - бухгалтерия, зарплата   \n",
       "5   55518035                           Computer Vision Engineer   \n",
       "6   55851928                                 Программист Python   \n",
       "7   51504693                            Системный администратор   \n",
       "8   53203579                                        Аналитик 1С   \n",
       "9   51951335                            Системный администратор   \n",
       "10  54909932                      Middle+/Senior C# разработчик   \n",
       "11  55592532  Database Administrator (Администратор баз данных)   \n",
       "12  55884372  Инженер по обслуживанию ресторанов Макдоналдс ...   \n",
       "13  66177314             Инженер по информационной безопасности   \n",
       "14  66073664                            Помощник IT-специалиста   \n",
       "15  66145376                            Помощник IT-специалиста   \n",
       "16  54816956                            Системный администратор   \n",
       "\n",
       "                                           key_skills          schedule  \\\n",
       "0   Java\\tReact\\tKotlin\\tSpring Boot\\tAWS\\tGCP\\tMo...       Полный день   \n",
       "1   Node.js\\tJavaScript\\tMongoDB\\tAngular\\tSpring ...       Полный день   \n",
       "2       JavaScript\\tHTML5\\tPHP\\tCMS Wordpress\\tjQuery       Полный день   \n",
       "3   Adobe Photoshop\\tНаполнение контентом\\tГрамотн...  Удаленная работа   \n",
       "4   1С: Предприятие 8\\t1С программирование\\t1С: За...       Полный день   \n",
       "5   Tensorflow\\tOpenCV\\tMachine Learning\\tPython\\t...       Полный день   \n",
       "6                                                None       Полный день   \n",
       "7   TCP/IP\\tАдминистрирование сетевого оборудовани...       Полный день   \n",
       "8                                                None       Полный день   \n",
       "9                                                None       Полный день   \n",
       "10  Git\\tPostgreSQL\\tООП\\tAWS\\tAWS Lambda\\tElastic...       Полный день   \n",
       "11  Работа с базами данных\\tPostgreSQL\\tУдаленная ...  Удаленная работа   \n",
       "12  Настройка ПО\\tНастройка ПК\\tРемонт ПК\\tТехниче...     Гибкий график   \n",
       "13  Информационная безопасность\\tВнедрение систем ...       Полный день   \n",
       "14  Adobe Photoshop\\tHTML\\tWeb\\tОпрятный внешний в...       Полный день   \n",
       "15  Adobe Photoshop\\tHTML\\tWeb\\tОпрятный внешний в...       Полный день   \n",
       "16  Настройка ПО\\tНастройка серверов\\tАдминистриро...       Полный день   \n",
       "\n",
       "            experience           employment  salary_from  salary_to  area_id  \\\n",
       "0        От 3 до 6 лет     Полная занятость       574000   860000.0      160   \n",
       "1        От 3 до 6 лет     Полная занятость       574000   860000.0      160   \n",
       "2   От 1 года до 3 лет     Полная занятость          900        NaN     2758   \n",
       "3   От 1 года до 3 лет     Полная занятость          900        NaN     1007   \n",
       "4          Более 6 лет  Частичная занятость          750      850.0      102   \n",
       "5        От 3 до 6 лет     Полная занятость          250      350.0        1   \n",
       "6   От 1 года до 3 лет     Полная занятость          105   215000.0        4   \n",
       "7            Нет опыта     Полная занятость           80   150000.0     2077   \n",
       "8   От 1 года до 3 лет     Полная занятость           80   120000.0       99   \n",
       "9        От 3 до 6 лет     Полная занятость           70        NaN       78   \n",
       "10       От 3 до 6 лет     Полная занятость           65        NaN      159   \n",
       "11  От 1 года до 3 лет     Полная занятость           60       60.0       83   \n",
       "12  От 1 года до 3 лет     Полная занятость           42    50000.0       26   \n",
       "13           Нет опыта     Полная занятость           35        NaN       26   \n",
       "14  От 1 года до 3 лет     Полная занятость           30        NaN      237   \n",
       "15           Нет опыта     Полная занятость           30        NaN      237   \n",
       "16  От 1 года до 3 лет     Полная занятость           30    50000.0      104   \n",
       "\n",
       "    employer_id  \n",
       "0       5973965  \n",
       "1       5973965  \n",
       "2       6138766  \n",
       "3       2848813  \n",
       "4       3074036  \n",
       "5       4484124  \n",
       "6         67611  \n",
       "7         44936  \n",
       "8        360319  \n",
       "9         43906  \n",
       "10      4823409  \n",
       "11      1654478  \n",
       "12        84969  \n",
       "13       643860  \n",
       "14      3046483  \n",
       "15      3046483  \n",
       "16       792907  "
      ]
     },
     "execution_count": 77,
     "metadata": {},
     "output_type": "execute_result"
    }
   ],
   "source": [
    "# смотрим строки с экстремальными значениями\n",
    "query_zp = f'''\n",
    "                select * --выбрать все строки\n",
    "                from public.vacancies --из схемы public таблицы vacancies\n",
    "                where (salary_from=574000) or (salary_from < 1000)  -- диапазон вывода\n",
    "                \n",
    "                order by salary_from desc --упорядывачиваем                       \n",
    "\n",
    "'''\n",
    "zp_up_df = pd.read_sql(query_zp, connection)# создаем дата фрейм\n",
    "zp_up_df#  возвращаем дата фрейм"
   ]
  },
  {
   "attachments": {},
   "cell_type": "markdown",
   "metadata": {},
   "source": [
    "#### Выводы"
   ]
  },
  {
   "attachments": {},
   "cell_type": "markdown",
   "metadata": {},
   "source": [
    "Сведения о зарабатной плате заполнены частично, так же присутствуют экстремальные значения. Экстремальные значения по salary_from и salary_to несвязаны между собой (не относятся к одним строкам). Экстремально малые значения могут быть как следствение частичной конвертации валют, так и намереного внесения таких данных. Данных о зарплатной вилке мало для использования в дальнейшей работе(нерепрезентативны). "
   ]
  },
  {
   "attachments": {},
   "cell_type": "markdown",
   "metadata": {},
   "source": [
    "### Выяснить в какую отрасль, регион набирают ДС, долю вакансий джунов"
   ]
  },
  {
   "cell_type": "code",
   "execution_count": 87,
   "metadata": {},
   "outputs": [
    {
     "name": "stderr",
     "output_type": "stream",
     "text": [
      "C:\\Users\\CheshirSmile\\AppData\\Local\\Temp\\ipykernel_8692\\2034004164.py:36: UserWarning: pandas only supports SQLAlchemy connectable (engine/connection) or database string URI or sqlite3 DBAPI2 connection. Other DBAPI2 objects are not tested. Please consider using SQLAlchemy.\n",
      "  dsregion_df = pd.read_sql_query(query_dsregion,connection) # создаем дата фрейм из данных запроса\n"
     ]
    },
    {
     "data": {
      "text/html": [
       "<div>\n",
       "<style scoped>\n",
       "    .dataframe tbody tr th:only-of-type {\n",
       "        vertical-align: middle;\n",
       "    }\n",
       "\n",
       "    .dataframe tbody tr th {\n",
       "        vertical-align: top;\n",
       "    }\n",
       "\n",
       "    .dataframe thead th {\n",
       "        text-align: right;\n",
       "    }\n",
       "</style>\n",
       "<table border=\"1\" class=\"dataframe\">\n",
       "  <thead>\n",
       "    <tr style=\"text-align: right;\">\n",
       "      <th></th>\n",
       "      <th>name</th>\n",
       "      <th>vacations_count</th>\n",
       "    </tr>\n",
       "  </thead>\n",
       "  <tbody>\n",
       "    <tr>\n",
       "      <th>0</th>\n",
       "      <td>total</td>\n",
       "      <td>480</td>\n",
       "    </tr>\n",
       "    <tr>\n",
       "      <th>1</th>\n",
       "      <td>СБЕР</td>\n",
       "      <td>37</td>\n",
       "    </tr>\n",
       "    <tr>\n",
       "      <th>2</th>\n",
       "      <td>Bell Integrator</td>\n",
       "      <td>25</td>\n",
       "    </tr>\n",
       "    <tr>\n",
       "      <th>3</th>\n",
       "      <td>Банк ВТБ (ПАО)</td>\n",
       "      <td>18</td>\n",
       "    </tr>\n",
       "    <tr>\n",
       "      <th>4</th>\n",
       "      <td>VK</td>\n",
       "      <td>15</td>\n",
       "    </tr>\n",
       "    <tr>\n",
       "      <th>5</th>\n",
       "      <td>Positive Technologies</td>\n",
       "      <td>11</td>\n",
       "    </tr>\n",
       "    <tr>\n",
       "      <th>6</th>\n",
       "      <td>Яндекс</td>\n",
       "      <td>9</td>\n",
       "    </tr>\n",
       "    <tr>\n",
       "      <th>7</th>\n",
       "      <td>EvenBet Gaming</td>\n",
       "      <td>9</td>\n",
       "    </tr>\n",
       "    <tr>\n",
       "      <th>8</th>\n",
       "      <td>МегаФон</td>\n",
       "      <td>8</td>\n",
       "    </tr>\n",
       "    <tr>\n",
       "      <th>9</th>\n",
       "      <td>Andersen</td>\n",
       "      <td>7</td>\n",
       "    </tr>\n",
       "  </tbody>\n",
       "</table>\n",
       "</div>"
      ],
      "text/plain": [
       "                    name  vacations_count\n",
       "0                  total              480\n",
       "1                   СБЕР               37\n",
       "2        Bell Integrator               25\n",
       "3         Банк ВТБ (ПАО)               18\n",
       "4                     VK               15\n",
       "5  Positive Technologies               11\n",
       "6                 Яндекс                9\n",
       "7         EvenBet Gaming                9\n",
       "8                МегаФон                8\n",
       "9               Andersen                7"
      ]
     },
     "execution_count": 87,
     "metadata": {},
     "output_type": "execute_result"
    }
   ],
   "source": [
    "# Работодатели выставляющие вакансии ДС\n",
    "query_dsregion = f'''\n",
    "                select e.name, count(v.id) vacations_count \n",
    "                \n",
    "                from public.vacancies v \n",
    "                        join public.employers e on e.id = v.employer_id\n",
    "                        \n",
    "                where  (v.name ilike '%data scientist%' \n",
    "                        or v.name ilike '%data science%'\n",
    "                        or v.name ilike '%исследователь данных%' \n",
    "                        or (v.name like '%ML%' and v.name not like '%HTML%') \n",
    "                        or v.name ilike '%machine learning%' \n",
    "                        or v.name ilike '%машинн%обучен%') \n",
    "                        \n",
    "                group by e.name\n",
    "                        \n",
    "                union all\n",
    "                \n",
    "                select 'total', count(v.id)\n",
    "                \n",
    "                 from public.vacancies v \n",
    "                        join public.employers e on e.id = v.employer_id\n",
    "                        \n",
    "                where  (v.name ilike '%data scientist%' \n",
    "                        or v.name ilike '%data science%'\n",
    "                        or v.name ilike '%исследователь данных%' \n",
    "                        or (v.name like '%ML%' and v.name not like '%HTML%') \n",
    "                        or v.name ilike '%machine learning%' \n",
    "                        or v.name ilike '%машинн%обучен%') \n",
    "                        \n",
    "                \n",
    "                order by 2 desc\n",
    "                limit 10\n",
    "                '''\n",
    "                \n",
    "dsregion_df = pd.read_sql_query(query_dsregion,connection) # создаем дата фрейм из данных запроса\n",
    "dsregion_df # выводим дата фрем"
   ]
  },
  {
   "cell_type": "code",
   "execution_count": 89,
   "metadata": {},
   "outputs": [
    {
     "name": "stderr",
     "output_type": "stream",
     "text": [
      "C:\\Users\\CheshirSmile\\AppData\\Local\\Temp\\ipykernel_8692\\4293344931.py:37: UserWarning: pandas only supports SQLAlchemy connectable (engine/connection) or database string URI or sqlite3 DBAPI2 connection. Other DBAPI2 objects are not tested. Please consider using SQLAlchemy.\n",
      "  dsdsemop_df = pd.read_sql_query(query_dsemop,connection) # создаем дата фрейм из данных запроса\n"
     ]
    },
    {
     "data": {
      "text/html": [
       "<div>\n",
       "<style scoped>\n",
       "    .dataframe tbody tr th:only-of-type {\n",
       "        vertical-align: middle;\n",
       "    }\n",
       "\n",
       "    .dataframe tbody tr th {\n",
       "        vertical-align: top;\n",
       "    }\n",
       "\n",
       "    .dataframe thead th {\n",
       "        text-align: right;\n",
       "    }\n",
       "</style>\n",
       "<table border=\"1\" class=\"dataframe\">\n",
       "  <thead>\n",
       "    <tr style=\"text-align: right;\">\n",
       "      <th></th>\n",
       "      <th>name</th>\n",
       "      <th>junior_vacations_count</th>\n",
       "    </tr>\n",
       "  </thead>\n",
       "  <tbody>\n",
       "    <tr>\n",
       "      <th>0</th>\n",
       "      <td>total</td>\n",
       "      <td>51</td>\n",
       "    </tr>\n",
       "    <tr>\n",
       "      <th>1</th>\n",
       "      <td>Банк ВТБ (ПАО)</td>\n",
       "      <td>10</td>\n",
       "    </tr>\n",
       "    <tr>\n",
       "      <th>2</th>\n",
       "      <td>Comexp</td>\n",
       "      <td>3</td>\n",
       "    </tr>\n",
       "    <tr>\n",
       "      <th>3</th>\n",
       "      <td>The Skolkovo Institute of Science and Technology</td>\n",
       "      <td>3</td>\n",
       "    </tr>\n",
       "    <tr>\n",
       "      <th>4</th>\n",
       "      <td>SteadyControl</td>\n",
       "      <td>2</td>\n",
       "    </tr>\n",
       "    <tr>\n",
       "      <th>5</th>\n",
       "      <td>СтарЛайн, Научно-производственное объединение</td>\n",
       "      <td>2</td>\n",
       "    </tr>\n",
       "    <tr>\n",
       "      <th>6</th>\n",
       "      <td>Диплей</td>\n",
       "      <td>2</td>\n",
       "    </tr>\n",
       "    <tr>\n",
       "      <th>7</th>\n",
       "      <td>Seldon</td>\n",
       "      <td>1</td>\n",
       "    </tr>\n",
       "    <tr>\n",
       "      <th>8</th>\n",
       "      <td>DNS Головной офис</td>\n",
       "      <td>1</td>\n",
       "    </tr>\n",
       "    <tr>\n",
       "      <th>9</th>\n",
       "      <td>VK</td>\n",
       "      <td>1</td>\n",
       "    </tr>\n",
       "  </tbody>\n",
       "</table>\n",
       "</div>"
      ],
      "text/plain": [
       "                                               name  junior_vacations_count\n",
       "0                                             total                      51\n",
       "1                                    Банк ВТБ (ПАО)                      10\n",
       "2                                            Comexp                       3\n",
       "3  The Skolkovo Institute of Science and Technology                       3\n",
       "4                                     SteadyControl                       2\n",
       "5     СтарЛайн, Научно-производственное объединение                       2\n",
       "6                                            Диплей                       2\n",
       "7                                            Seldon                       1\n",
       "8                                 DNS Головной офис                       1\n",
       "9                                                VK                       1"
      ]
     },
     "execution_count": 89,
     "metadata": {},
     "output_type": "execute_result"
    }
   ],
   "source": [
    "# Работодатели выставляющие вакансии ДС для джунов\n",
    "query_dsemop = f'''\n",
    "                select e.name, count(v.id) junior_vacations_count \n",
    "                \n",
    "                from public.vacancies v \n",
    "                        join public.employers e on e.id = v.employer_id\n",
    "                        \n",
    "                where  (v.name ilike '%data scientist%' \n",
    "                        or v.name ilike '%data science%'\n",
    "                        or v.name ilike '%исследователь данных%' \n",
    "                        or (v.name like '%ML%' and v.name not like '%HTML%') \n",
    "                        or v.name ilike '%machine learning%' \n",
    "                        or v.name ilike '%машинн%обучен%') \n",
    "                        and (v.name ilike '%junior%' or  v.experience = 'Нет опыта' or v.employment = 'Стажировка') \n",
    "                        \n",
    "                group by e.name\n",
    "                \n",
    "                union all\n",
    "                \n",
    "                select 'total', count(v.id)\n",
    "                \n",
    "                from public.vacancies v \n",
    "                        join public.employers e on e.id = v.employer_id\n",
    "                        \n",
    "                where  (v.name ilike '%data scientist%' \n",
    "                        or v.name ilike '%data science%'\n",
    "                        or v.name ilike '%исследователь данных%' \n",
    "                        or (v.name like '%ML%' and v.name not like '%HTML%') \n",
    "                        or v.name ilike '%machine learning%' \n",
    "                        or v.name ilike '%машинн%обучен%') \n",
    "                        and (v.name ilike '%junior%' or  v.experience = 'Нет опыта' or v.employment = 'Стажировка')\n",
    "                \n",
    "                order by 2 desc\n",
    "                limit 10\n",
    "                '''\n",
    "                \n",
    "dsdsemop_df = pd.read_sql_query(query_dsemop,connection) # создаем дата фрейм из данных запроса\n",
    "dsdsemop_df # выводим дата фрем"
   ]
  },
  {
   "cell_type": "code",
   "execution_count": 90,
   "metadata": {},
   "outputs": [
    {
     "name": "stderr",
     "output_type": "stream",
     "text": [
      "C:\\Users\\CheshirSmile\\AppData\\Local\\Temp\\ipykernel_8692\\2209132322.py:36: UserWarning: pandas only supports SQLAlchemy connectable (engine/connection) or database string URI or sqlite3 DBAPI2 connection. Other DBAPI2 objects are not tested. Please consider using SQLAlchemy.\n",
      "  dsregion_df = pd.read_sql_query(query_dsregion,connection) # создаем дата фрейм из данных запроса\n"
     ]
    },
    {
     "data": {
      "text/html": [
       "<div>\n",
       "<style scoped>\n",
       "    .dataframe tbody tr th:only-of-type {\n",
       "        vertical-align: middle;\n",
       "    }\n",
       "\n",
       "    .dataframe tbody tr th {\n",
       "        vertical-align: top;\n",
       "    }\n",
       "\n",
       "    .dataframe thead th {\n",
       "        text-align: right;\n",
       "    }\n",
       "</style>\n",
       "<table border=\"1\" class=\"dataframe\">\n",
       "  <thead>\n",
       "    <tr style=\"text-align: right;\">\n",
       "      <th></th>\n",
       "      <th>name</th>\n",
       "      <th>vacations_count</th>\n",
       "    </tr>\n",
       "  </thead>\n",
       "  <tbody>\n",
       "    <tr>\n",
       "      <th>0</th>\n",
       "      <td>total</td>\n",
       "      <td>480</td>\n",
       "    </tr>\n",
       "    <tr>\n",
       "      <th>1</th>\n",
       "      <td>Москва</td>\n",
       "      <td>217</td>\n",
       "    </tr>\n",
       "    <tr>\n",
       "      <th>2</th>\n",
       "      <td>Санкт-Петербург</td>\n",
       "      <td>64</td>\n",
       "    </tr>\n",
       "    <tr>\n",
       "      <th>3</th>\n",
       "      <td>Новосибирск</td>\n",
       "      <td>23</td>\n",
       "    </tr>\n",
       "    <tr>\n",
       "      <th>4</th>\n",
       "      <td>Нижний Новгород</td>\n",
       "      <td>20</td>\n",
       "    </tr>\n",
       "    <tr>\n",
       "      <th>5</th>\n",
       "      <td>Казань</td>\n",
       "      <td>16</td>\n",
       "    </tr>\n",
       "    <tr>\n",
       "      <th>6</th>\n",
       "      <td>Алматы</td>\n",
       "      <td>16</td>\n",
       "    </tr>\n",
       "    <tr>\n",
       "      <th>7</th>\n",
       "      <td>Минск</td>\n",
       "      <td>9</td>\n",
       "    </tr>\n",
       "    <tr>\n",
       "      <th>8</th>\n",
       "      <td>Томск</td>\n",
       "      <td>8</td>\n",
       "    </tr>\n",
       "    <tr>\n",
       "      <th>9</th>\n",
       "      <td>Екатеринбург</td>\n",
       "      <td>7</td>\n",
       "    </tr>\n",
       "  </tbody>\n",
       "</table>\n",
       "</div>"
      ],
      "text/plain": [
       "              name  vacations_count\n",
       "0            total              480\n",
       "1           Москва              217\n",
       "2  Санкт-Петербург               64\n",
       "3      Новосибирск               23\n",
       "4  Нижний Новгород               20\n",
       "5           Казань               16\n",
       "6           Алматы               16\n",
       "7            Минск                9\n",
       "8            Томск                8\n",
       "9     Екатеринбург                7"
      ]
     },
     "execution_count": 90,
     "metadata": {},
     "output_type": "execute_result"
    }
   ],
   "source": [
    "# По каким регионам происходит распредееление вакансий ДС\n",
    "query_dsregion = f'''\n",
    "                select a.name, count(v.id) vacations_count \n",
    "                \n",
    "                from public.vacancies v \n",
    "                        join public.areas a on v.area_id = a.id\n",
    "                        \n",
    "                where  (v.name ilike '%data scientist%' \n",
    "                        or v.name ilike '%data science%'\n",
    "                        or v.name ilike '%исследователь данных%' \n",
    "                        or (v.name like '%ML%' and v.name not like '%HTML%') \n",
    "                        or v.name ilike '%machine learning%' \n",
    "                        or v.name ilike '%машинн%обучен%') \n",
    "                         \n",
    "                        \n",
    "                group by a.name\n",
    "                \n",
    "                union all\n",
    "                \n",
    "                select 'total', count(v.id)\n",
    "                \n",
    "                  from public.vacancies v \n",
    "                        join public.areas a on v.area_id = a.id\n",
    "                        \n",
    "                where  (v.name ilike '%data scientist%' \n",
    "                        or v.name ilike '%data science%'\n",
    "                        or v.name ilike '%исследователь данных%' \n",
    "                        or (v.name like '%ML%' and v.name not like '%HTML%') \n",
    "                        or v.name ilike '%machine learning%' \n",
    "                        or v.name ilike '%машинн%обучен%') \n",
    "                \n",
    "                order by 2 desc\n",
    "                limit 10\n",
    "                '''\n",
    "                \n",
    "dsregion_df = pd.read_sql_query(query_dsregion,connection) # создаем дата фрейм из данных запроса\n",
    "dsregion_df # выводим дата фрем"
   ]
  },
  {
   "cell_type": "code",
   "execution_count": 91,
   "metadata": {},
   "outputs": [
    {
     "name": "stderr",
     "output_type": "stream",
     "text": [
      "C:\\Users\\CheshirSmile\\AppData\\Local\\Temp\\ipykernel_8692\\3464552671.py:36: UserWarning: pandas only supports SQLAlchemy connectable (engine/connection) or database string URI or sqlite3 DBAPI2 connection. Other DBAPI2 objects are not tested. Please consider using SQLAlchemy.\n",
      "  dsregion_df = pd.read_sql_query(query_dsregion,connection) # создаем дата фрейм из данных запроса\n"
     ]
    },
    {
     "data": {
      "text/html": [
       "<div>\n",
       "<style scoped>\n",
       "    .dataframe tbody tr th:only-of-type {\n",
       "        vertical-align: middle;\n",
       "    }\n",
       "\n",
       "    .dataframe tbody tr th {\n",
       "        vertical-align: top;\n",
       "    }\n",
       "\n",
       "    .dataframe thead th {\n",
       "        text-align: right;\n",
       "    }\n",
       "</style>\n",
       "<table border=\"1\" class=\"dataframe\">\n",
       "  <thead>\n",
       "    <tr style=\"text-align: right;\">\n",
       "      <th></th>\n",
       "      <th>name</th>\n",
       "      <th>junior_vacations_count</th>\n",
       "    </tr>\n",
       "  </thead>\n",
       "  <tbody>\n",
       "    <tr>\n",
       "      <th>0</th>\n",
       "      <td>total</td>\n",
       "      <td>51</td>\n",
       "    </tr>\n",
       "    <tr>\n",
       "      <th>1</th>\n",
       "      <td>Москва</td>\n",
       "      <td>19</td>\n",
       "    </tr>\n",
       "    <tr>\n",
       "      <th>2</th>\n",
       "      <td>Санкт-Петербург</td>\n",
       "      <td>9</td>\n",
       "    </tr>\n",
       "    <tr>\n",
       "      <th>3</th>\n",
       "      <td>Новосибирск</td>\n",
       "      <td>5</td>\n",
       "    </tr>\n",
       "    <tr>\n",
       "      <th>4</th>\n",
       "      <td>Минск</td>\n",
       "      <td>2</td>\n",
       "    </tr>\n",
       "    <tr>\n",
       "      <th>5</th>\n",
       "      <td>Воронеж</td>\n",
       "      <td>2</td>\n",
       "    </tr>\n",
       "    <tr>\n",
       "      <th>6</th>\n",
       "      <td>Екатеринбург</td>\n",
       "      <td>2</td>\n",
       "    </tr>\n",
       "    <tr>\n",
       "      <th>7</th>\n",
       "      <td>Ростов-на-Дону</td>\n",
       "      <td>2</td>\n",
       "    </tr>\n",
       "    <tr>\n",
       "      <th>8</th>\n",
       "      <td>Пермь</td>\n",
       "      <td>2</td>\n",
       "    </tr>\n",
       "    <tr>\n",
       "      <th>9</th>\n",
       "      <td>Томск</td>\n",
       "      <td>2</td>\n",
       "    </tr>\n",
       "    <tr>\n",
       "      <th>10</th>\n",
       "      <td>Казань</td>\n",
       "      <td>2</td>\n",
       "    </tr>\n",
       "    <tr>\n",
       "      <th>11</th>\n",
       "      <td>Тюмень</td>\n",
       "      <td>1</td>\n",
       "    </tr>\n",
       "    <tr>\n",
       "      <th>12</th>\n",
       "      <td>Нижний Новгород</td>\n",
       "      <td>1</td>\n",
       "    </tr>\n",
       "    <tr>\n",
       "      <th>13</th>\n",
       "      <td>Омск</td>\n",
       "      <td>1</td>\n",
       "    </tr>\n",
       "    <tr>\n",
       "      <th>14</th>\n",
       "      <td>Владивосток</td>\n",
       "      <td>1</td>\n",
       "    </tr>\n",
       "  </tbody>\n",
       "</table>\n",
       "</div>"
      ],
      "text/plain": [
       "               name  junior_vacations_count\n",
       "0             total                      51\n",
       "1            Москва                      19\n",
       "2   Санкт-Петербург                       9\n",
       "3       Новосибирск                       5\n",
       "4             Минск                       2\n",
       "5           Воронеж                       2\n",
       "6      Екатеринбург                       2\n",
       "7    Ростов-на-Дону                       2\n",
       "8             Пермь                       2\n",
       "9             Томск                       2\n",
       "10           Казань                       2\n",
       "11           Тюмень                       1\n",
       "12  Нижний Новгород                       1\n",
       "13             Омск                       1\n",
       "14      Владивосток                       1"
      ]
     },
     "execution_count": 91,
     "metadata": {},
     "output_type": "execute_result"
    }
   ],
   "source": [
    "# По каким регионам происходит распредееление вакансий ДС для джунов\n",
    "query_dsregion = f'''\n",
    "                select a.name, count(v.id) junior_vacations_count \n",
    "                \n",
    "                from public.vacancies v \n",
    "                        join public.areas a on v.area_id = a.id\n",
    "                        \n",
    "                where  (v.name ilike '%data scientist%' \n",
    "                        or v.name ilike '%data science%'\n",
    "                        or v.name ilike '%исследователь данных%' \n",
    "                        or (v.name like '%ML%' and v.name not like '%HTML%') \n",
    "                        or v.name ilike '%machine learning%' \n",
    "                        or v.name ilike '%машинн%обучен%') \n",
    "                        and (v.name ilike '%junior%' or  v.experience = 'Нет опыта' or v.employment = 'Стажировка') \n",
    "                        \n",
    "                group by a.name\n",
    "                \n",
    "                 union all\n",
    "                \n",
    "                select 'total', count(v.id)\n",
    "                \n",
    "                  from public.vacancies v \n",
    "                        join public.areas a on v.area_id = a.id\n",
    "                        \n",
    "                where  (v.name ilike '%data scientist%' \n",
    "                        or v.name ilike '%data science%'\n",
    "                        or v.name ilike '%исследователь данных%' \n",
    "                        or (v.name like '%ML%' and v.name not like '%HTML%') \n",
    "                        or v.name ilike '%machine learning%' \n",
    "                        or v.name ilike '%машинн%обучен%') \n",
    "                        and (v.name ilike '%junior%' or  v.experience = 'Нет опыта' or v.employment = 'Стажировка') \n",
    "                \n",
    "                order by 2 desc\n",
    "                '''\n",
    "                \n",
    "dsregion_df = pd.read_sql_query(query_dsregion,connection) # создаем дата фрейм из данных запроса\n",
    "dsregion_df # выводим дата фрем"
   ]
  },
  {
   "attachments": {},
   "cell_type": "markdown",
   "metadata": {},
   "source": [
    "#### Выводы"
   ]
  },
  {
   "attachments": {},
   "cell_type": "markdown",
   "metadata": {},
   "source": [
    "В рассматриваемый период ДС набирали приимущественно в банковской сфере в Москве. Доля вакансий на позицию джуна около 10%. "
   ]
  },
  {
   "attachments": {},
   "cell_type": "markdown",
   "metadata": {},
   "source": [
    "### Сколько вакансий связано со сферой IT"
   ]
  },
  {
   "cell_type": "code",
   "execution_count": 22,
   "metadata": {},
   "outputs": [
    {
     "name": "stderr",
     "output_type": "stream",
     "text": [
      "C:\\Users\\CheshirSmile\\AppData\\Local\\Temp\\ipykernel_13240\\2760453091.py:15: UserWarning: pandas only supports SQLAlchemy connectable (engine/connection) or database string URI or sqlite3 DBAPI2 connection. Other DBAPI2 objects are not tested. Please consider using SQLAlchemy.\n",
      "  vacidcount_df = pd.read_sql_query(query_vacidcount,connection)\n"
     ]
    },
    {
     "data": {
      "text/html": [
       "<div>\n",
       "<style scoped>\n",
       "    .dataframe tbody tr th:only-of-type {\n",
       "        vertical-align: middle;\n",
       "    }\n",
       "\n",
       "    .dataframe tbody tr th {\n",
       "        vertical-align: top;\n",
       "    }\n",
       "\n",
       "    .dataframe thead th {\n",
       "        text-align: right;\n",
       "    }\n",
       "</style>\n",
       "<table border=\"1\" class=\"dataframe\">\n",
       "  <thead>\n",
       "    <tr style=\"text-align: right;\">\n",
       "      <th></th>\n",
       "      <th>industry_name</th>\n",
       "      <th>count_of_vacancions</th>\n",
       "    </tr>\n",
       "  </thead>\n",
       "  <tbody>\n",
       "    <tr>\n",
       "      <th>0</th>\n",
       "      <td>Разработка программного обеспечения</td>\n",
       "      <td>12499</td>\n",
       "    </tr>\n",
       "    <tr>\n",
       "      <th>1</th>\n",
       "      <td>Системная интеграция,  автоматизации технологи...</td>\n",
       "      <td>11034</td>\n",
       "    </tr>\n",
       "    <tr>\n",
       "      <th>2</th>\n",
       "      <td>Интернет-компания (поисковики, платежные систе...</td>\n",
       "      <td>6413</td>\n",
       "    </tr>\n",
       "    <tr>\n",
       "      <th>3</th>\n",
       "      <td>Банк</td>\n",
       "      <td>2742</td>\n",
       "    </tr>\n",
       "    <tr>\n",
       "      <th>4</th>\n",
       "      <td>Мобильная связь</td>\n",
       "      <td>1585</td>\n",
       "    </tr>\n",
       "    <tr>\n",
       "      <th>5</th>\n",
       "      <td>Кадровые агентства</td>\n",
       "      <td>1143</td>\n",
       "    </tr>\n",
       "    <tr>\n",
       "      <th>6</th>\n",
       "      <td>Консалтинговые услуги</td>\n",
       "      <td>1137</td>\n",
       "    </tr>\n",
       "    <tr>\n",
       "      <th>7</th>\n",
       "      <td>Интернет-провайдер</td>\n",
       "      <td>1095</td>\n",
       "    </tr>\n",
       "    <tr>\n",
       "      <th>8</th>\n",
       "      <td>Розничная сеть (продуктовая)</td>\n",
       "      <td>1034</td>\n",
       "    </tr>\n",
       "    <tr>\n",
       "      <th>9</th>\n",
       "      <td>Фиксированная связь</td>\n",
       "      <td>1028</td>\n",
       "    </tr>\n",
       "    <tr>\n",
       "      <th>10</th>\n",
       "      <td>Оптоволоконная связь</td>\n",
       "      <td>1012</td>\n",
       "    </tr>\n",
       "    <tr>\n",
       "      <th>11</th>\n",
       "      <td>Маркетинговые, рекламные, BTL, дизайнерские, E...</td>\n",
       "      <td>1001</td>\n",
       "    </tr>\n",
       "  </tbody>\n",
       "</table>\n",
       "</div>"
      ],
      "text/plain": [
       "                                        industry_name  count_of_vacancions\n",
       "0                 Разработка программного обеспечения                12499\n",
       "1   Системная интеграция,  автоматизации технологи...                11034\n",
       "2   Интернет-компания (поисковики, платежные систе...                 6413\n",
       "3                                                Банк                 2742\n",
       "4                                     Мобильная связь                 1585\n",
       "5                                  Кадровые агентства                 1143\n",
       "6                               Консалтинговые услуги                 1137\n",
       "7                                  Интернет-провайдер                 1095\n",
       "8                        Розничная сеть (продуктовая)                 1034\n",
       "9                                 Фиксированная связь                 1028\n",
       "10                               Оптоволоконная связь                 1012\n",
       "11  Маркетинговые, рекламные, BTL, дизайнерские, E...                 1001"
      ]
     },
     "execution_count": 22,
     "metadata": {},
     "output_type": "execute_result"
    }
   ],
   "source": [
    "# смотрим в каком кол-ве вакансий какие сферы деятельности указаны\n",
    "query_vacidcount = f'''\n",
    "                    select distinct i.name industry_name, count(v.id) count_of_vacancions /*выбираем столбцы с названием сферы деятельности и кол-вом вакансий */\n",
    "                    \n",
    "                    from public.vacancies v /*из схемы public таблицы vacancies */\n",
    "                    join public.employers_industries e on e.employer_id = v.employer_id /*объединяем с таблицей employers_industries */\n",
    "                    join public.industries i on i.id = e.industry_id /* объединяем с таблицей industries *\n",
    "                    \n",
    "                    group by 1\n",
    "                    having count(v.id) > 1000\n",
    "                    order by 2 desc\n",
    "                    \n",
    "                    '''\n",
    "\n",
    "vacidcount_df = pd.read_sql_query(query_vacidcount,connection)\n",
    "vacidcount_df"
   ]
  },
  {
   "attachments": {},
   "cell_type": "markdown",
   "metadata": {},
   "source": [
    "Более 60% вакансий связаны со сферой IT. "
   ]
  },
  {
   "attachments": {},
   "cell_type": "markdown",
   "metadata": {},
   "source": [
    "# Выводы"
   ]
  },
  {
   "attachments": {},
   "cell_type": "markdown",
   "metadata": {},
   "source": [
    "* В схеме public присутвуют данные о 49197 вакансиях от 23501 работодателей по 294 сферам деятельности в 1362 регионах.  \n",
    "\n",
    "* В предоставленных данных наибольшее кол-во вакансий: Москва 5333, Санкт-Петербург 2851, Минск\t2112, Новосибирск 2006, Алматы 1892. \n",
    "    * На эти пять регионов приходится 1/5 всех вакансий (из 1362 регионов). \n",
    "    * На Москву ~ 1/12.  \n",
    "\n",
    "* У 24073 вакансий заполнено хотя бы одно поле зарплатной вилки (верхняя и/или нижняя), что составляет примерно половину всех вакансий. \n",
    "    * Присутствуют экстремальные значения. \n",
    "    * Экстремальные значения по salary_from и salary_to несвязаны между собой (не относятся к одним строкам). \n",
    "    * Экстремально малые значения могут быть как следствение частичной конвертации валют, так и намереного внесения таких данных.  \n",
    "    \n",
    "    Данных о зарплатной вилке мало для использования в дальнейшей работе(нерепрезентативны).  \n",
    "\n",
    "* Наибольшее кол-во вакансий из многообразия комбинаций типа рабочего графика и типа трудоустройства является удаленная работа при полной занятости - 7802 вакансий.\n",
    "\n",
    "* Более половины всех вакансий с запросом на опыт работы от 1 года до 3 лет - 26152 (53%).\n",
    "\n",
    "* Наибольшее кол-во вакансий приходится на коммуникационную и банковскую сферу. Компании из этих отраслей выставляют наибольшее кол-во вакансий на одну компанию. \n",
    "\n",
    "* Яндекс и Ростелеком размещают вакансии в широком географическом поле.\n",
    "\n",
    "* В таблице регионов регионы не равновесные, представлены как регионы так и их субрегионы, что делает их не репрезентативными (сложно применимыми в дальнейшем исследовании, нужна группировка).\n",
    "\n",
    "* Более 60% вакансий связаны со сферой IT. \n",
    "\n",
    "* Вакансии имеющие отношение к данным составляют 3,5 % от общего числа вакансий.\n",
    "\n",
    "* В рассматриваемый период ДС набирали приимущественно в банковской сфере в Москве. Доля вакансий на позицию джуна около 10%."
   ]
  },
  {
   "attachments": {},
   "cell_type": "markdown",
   "metadata": {},
   "source": [
    "# Закрытие соединения"
   ]
  },
  {
   "cell_type": "code",
   "execution_count": 23,
   "metadata": {},
   "outputs": [],
   "source": [
    "connection.close()"
   ]
  }
 ],
 "metadata": {
  "kernelspec": {
   "display_name": "Python 3",
   "language": "python",
   "name": "python3"
  },
  "language_info": {
   "codemirror_mode": {
    "name": "ipython",
    "version": 3
   },
   "file_extension": ".py",
   "mimetype": "text/x-python",
   "name": "python",
   "nbconvert_exporter": "python",
   "pygments_lexer": "ipython3",
   "version": "3.10.2"
  },
  "orig_nbformat": 4,
  "vscode": {
   "interpreter": {
    "hash": "5e2af71f6f660cc6bf5236c58e63379b5399369edcb8b10b6a4ef21e29a810da"
   }
  }
 },
 "nbformat": 4,
 "nbformat_minor": 2
}
